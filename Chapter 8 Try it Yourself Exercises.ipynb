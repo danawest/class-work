{
 "cells": [
  {
   "cell_type": "markdown",
   "metadata": {},
   "source": [
    "# Chapter 8\n",
    "This notebook will include my work on the chapter 8 Try it Yourself exercises."
   ]
  },
  {
   "cell_type": "markdown",
   "metadata": {},
   "source": [
    "### Exercise 8-1: Message\n",
    "This exercise practices defining and calling a function."
   ]
  },
  {
   "cell_type": "code",
   "execution_count": 1,
   "metadata": {},
   "outputs": [
    {
     "name": "stdout",
     "output_type": "stream",
     "text": [
      "Chapter 8 is about defining and calling functions in Python.\n"
     ]
    }
   ],
   "source": [
    "def display_message():\n",
    "    \"\"\"Displays the topic of chapter 8.\"\"\"\n",
    "    print(\"Chapter 8 is about defining and calling functions in Python.\")\n",
    "\n",
    "display_message()"
   ]
  },
  {
   "cell_type": "markdown",
   "metadata": {},
   "source": [
    "### Exercise 8-2: Favorite Book\n",
    "This exercise practices passing information to a function."
   ]
  },
  {
   "cell_type": "code",
   "execution_count": 3,
   "metadata": {},
   "outputs": [
    {
     "name": "stdout",
     "output_type": "stream",
     "text": [
      "One of my favorite books is The Night Circus.\n"
     ]
    }
   ],
   "source": [
    "def favorite_book(title):\n",
    "    \"\"\"Prints a message about the user's favorite book.\"\"\"\n",
    "    print(\"One of my favorite books is \" + title.title() + \".\")\n",
    "\n",
    "favorite_book('the night circus')"
   ]
  },
  {
   "cell_type": "markdown",
   "metadata": {},
   "source": [
    "### Exercise 8-3: T-shirts\n",
    "This exercise is for practice using different arguments to call a function. "
   ]
  },
  {
   "cell_type": "code",
   "execution_count": 13,
   "metadata": {},
   "outputs": [
    {
     "name": "stdout",
     "output_type": "stream",
     "text": [
      "You ordered a Go Warriors t-shirt in size Large.\n"
     ]
    }
   ],
   "source": [
    "def make_shirt(message, size):\n",
    "    \"\"\"Prints shirt order.\"\"\"\n",
    "    print(\"You ordered a \" + message.title() + \" t-shirt in size \" + size.title() + \".\")\n",
    "make_shirt('go warriors', 'large')"
   ]
  },
  {
   "cell_type": "code",
   "execution_count": 14,
   "metadata": {},
   "outputs": [
    {
     "name": "stdout",
     "output_type": "stream",
     "text": [
      "You ordered a Go Warriors t-shirt in size Large.\n"
     ]
    }
   ],
   "source": [
    "def make_shirt(message, size):\n",
    "    \"\"\"Prints shirt order.\"\"\"\n",
    "    print(\"You ordered a \" + message.title() + \" t-shirt in size \" + size.title() + \".\")\n",
    "make_shirt(message = 'go warriors', size = 'large')"
   ]
  },
  {
   "cell_type": "markdown",
   "metadata": {},
   "source": [
    "### Exercise 8-4: Large Shirts\n",
    "This exercise is for practicing defining a function and using an argument when calling it."
   ]
  },
  {
   "cell_type": "code",
   "execution_count": 4,
   "metadata": {},
   "outputs": [
    {
     "name": "stdout",
     "output_type": "stream",
     "text": [
      "You ordered an I Love Python t-shirt in size Large.\n"
     ]
    }
   ],
   "source": [
    "def make_shirt(message, size='large'):\n",
    "    \"\"\"Prints shirt order.\"\"\"\n",
    "    print(\"You ordered an \" + message.title() + \" t-shirt in size \" + size.title() + \".\")\n",
    "\n",
    "make_shirt('i love python')\n"
   ]
  },
  {
   "cell_type": "code",
   "execution_count": 5,
   "metadata": {},
   "outputs": [
    {
     "name": "stdout",
     "output_type": "stream",
     "text": [
      "You ordered an I Love Python t-shirt in size Medium.\n"
     ]
    }
   ],
   "source": [
    "def make_shirt(message, size='large'):\n",
    "    \"\"\"Prints shirt order.\"\"\"\n",
    "    print(\"You ordered an \" + message.title() + \" t-shirt in size \" + size.title() + \".\")\n",
    "\n",
    "make_shirt('i love python', 'medium')"
   ]
  },
  {
   "cell_type": "code",
   "execution_count": 7,
   "metadata": {},
   "outputs": [
    {
     "name": "stdout",
     "output_type": "stream",
     "text": [
      "You ordered an Eat My Shorts t-shirt in size Small.\n"
     ]
    }
   ],
   "source": [
    "def make_shirt(message, size='large'):\n",
    "    \"\"\"Prints shirt order.\"\"\"\n",
    "    print(\"You ordered an \" + message.title() + \" t-shirt in size \" + size.title() + \".\")\n",
    "\n",
    "make_shirt('eat my shorts', 'small')"
   ]
  },
  {
   "cell_type": "markdown",
   "metadata": {},
   "source": [
    "### Exercise 8-5: Cities\n",
    "More practice will calling functions."
   ]
  },
  {
   "cell_type": "code",
   "execution_count": 10,
   "metadata": {},
   "outputs": [
    {
     "name": "stdout",
     "output_type": "stream",
     "text": [
      "Paris is located in France.\n"
     ]
    }
   ],
   "source": [
    "def describe_city(name, country='france'):\n",
    "    \"\"\"Prints a simple statement about a city.\"\"\"\n",
    "    print(name.title() + \" is located in \" + country.title() + \".\")\n",
    "\n",
    "describe_city('paris')"
   ]
  },
  {
   "cell_type": "code",
   "execution_count": 11,
   "metadata": {},
   "outputs": [
    {
     "name": "stdout",
     "output_type": "stream",
     "text": [
      "Lyons is located in France.\n"
     ]
    }
   ],
   "source": [
    "def describe_city(name, country='france'):\n",
    "    \"\"\"Prints a simple statement about a city.\"\"\"\n",
    "    print(name.title() + \" is located in \" + country.title() + \".\")\n",
    "\n",
    "describe_city('lyons')"
   ]
  },
  {
   "cell_type": "code",
   "execution_count": 12,
   "metadata": {},
   "outputs": [
    {
     "name": "stdout",
     "output_type": "stream",
     "text": [
      "Berlin is located in Germany.\n"
     ]
    }
   ],
   "source": [
    "def describe_city(name, country='france'):\n",
    "    \"\"\"Prints a simple statement about a city.\"\"\"\n",
    "    print(name.title() + \" is located in \" + country.title() + \".\")\n",
    "\n",
    "describe_city('berlin', 'germany')"
   ]
  },
  {
   "cell_type": "markdown",
   "metadata": {},
   "source": [
    "### Exercise 8-6: City Names\n",
    "This is an exercise designed to practice calling a function to return a value."
   ]
  },
  {
   "cell_type": "code",
   "execution_count": 1,
   "metadata": {},
   "outputs": [
    {
     "name": "stdout",
     "output_type": "stream",
     "text": [
      "Paris, France\n"
     ]
    }
   ],
   "source": [
    "def city_country(city, country):\n",
    "    \"\"\"Returns a city and country neatly formatted.\"\"\"\n",
    "    city_full = city + ', ' + country\n",
    "    return city_full.title()\n",
    "place = city_country('paris', 'france')\n",
    "print(place)"
   ]
  },
  {
   "cell_type": "code",
   "execution_count": 2,
   "metadata": {},
   "outputs": [
    {
     "name": "stdout",
     "output_type": "stream",
     "text": [
      "Dublin, Ireland\n"
     ]
    }
   ],
   "source": [
    "def city_country(city, country):\n",
    "    \"\"\"Returns a city and country neatly formatted.\"\"\"\n",
    "    city_full = city + ', ' + country\n",
    "    return city_full.title()\n",
    "place = city_country('dublin', 'ireland')\n",
    "print(place)"
   ]
  },
  {
   "cell_type": "code",
   "execution_count": 3,
   "metadata": {},
   "outputs": [
    {
     "name": "stdout",
     "output_type": "stream",
     "text": [
      "Pretoria, South Africa\n"
     ]
    }
   ],
   "source": [
    "def city_country(city, country):\n",
    "    \"\"\"Returns a city and country neatly formatted.\"\"\"\n",
    "    city_full = city + ', ' + country\n",
    "    return city_full.title()\n",
    "place = city_country('pretoria', 'south africa')\n",
    "print(place)"
   ]
  },
  {
   "cell_type": "markdown",
   "metadata": {},
   "source": [
    "### Exercise 8-7: Album\n",
    "This exercise practices returning dictionaries as values by calling their function, as well as adding optional parameters to a function."
   ]
  },
  {
   "cell_type": "code",
   "execution_count": 2,
   "metadata": {},
   "outputs": [
    {
     "name": "stdout",
     "output_type": "stream",
     "text": [
      "{'artist': 'Prince', 'title': 'Purple Rain', 'tracks': 9}\n",
      "{'artist': 'The Beatles', 'title': 'Abbey Road', 'tracks': 17}\n",
      "{'artist': 'Garth Brooks', 'title': 'In Pieces', 'tracks': 10}\n"
     ]
    }
   ],
   "source": [
    "def make_album(artist, title, tracks=0):\n",
    "    \"\"\"Returns a dictionary of information about the album.\"\"\"\n",
    "    album_dict = {'artist': artist.title(), 'title': title.title()}\n",
    "    if tracks:\n",
    "        album_dict['tracks'] = tracks\n",
    "    return album_dict\n",
    "album = make_album('prince', 'purple rain', tracks=9)\n",
    "print(album)\n",
    "album = make_album('the beatles', 'abbey road', tracks=17)\n",
    "print(album)\n",
    "album = make_album('garth brooks', 'in pieces', tracks=10)\n",
    "print(album)"
   ]
  },
  {
   "cell_type": "markdown",
   "metadata": {},
   "source": [
    "### Exercise 8-8: User Album\n",
    "This exercise builds on the previous one by asking for a user to input the information about the album."
   ]
  },
  {
   "cell_type": "code",
   "execution_count": 1,
   "metadata": {},
   "outputs": [
    {
     "name": "stdout",
     "output_type": "stream",
     "text": [
      "\n",
      "Enter 'quit' at any time to exit.\n",
      "\n",
      "What is one of your favorite albums? graceland\n",
      "\n",
      "Who is it by? paul simon\n",
      "{'artist': 'Paul Simon', 'title': 'Graceland'}\n",
      "\n",
      "What is one of your favorite albums? transformer\n",
      "\n",
      "Who is it by? lou reed\n",
      "{'artist': 'Lou Reed', 'title': 'Transformer'}\n",
      "\n",
      "What is one of your favorite albums? achtung babe\n",
      "\n",
      "Who is it by? u2\n",
      "{'artist': 'U2', 'title': 'Achtung Babe'}\n",
      "\n",
      "What is one of your favorite albums? quit\n",
      "\n",
      "Thanks for your response!\n"
     ]
    }
   ],
   "source": [
    "def make_album(artist, title, tracks=0):\n",
    "    \"\"\"Build a dictionary containing information about an album from user input.\"\"\"\n",
    "    album_dict = {\n",
    "        'artist': artist.title(),\n",
    "        'title': title.title(),\n",
    "        } \n",
    "    if tracks:\n",
    "        album_dict['tracks'] = tracks\n",
    "    return album_dict\n",
    "\n",
    "title_prompt = \"\\nWhat is one of your favorite albums? \"\n",
    "artist_prompt = \"\\nWho is it by? \"\n",
    "\n",
    "print(\"\\nEnter 'quit' at any time to exit.\")\n",
    "\n",
    "while True:\n",
    "    title = input(title_prompt)\n",
    "    if title == 'quit':\n",
    "        break\n",
    "    artist = input(artist_prompt)\n",
    "    if artist == 'quit':\n",
    "        break\n",
    "    album = make_album(artist, title)\n",
    "    print(album)\n",
    "\n",
    "print(\"\\nThanks for your response!\")"
   ]
  },
  {
   "cell_type": "markdown",
   "metadata": {},
   "source": [
    "### Exercise 8-9: Magicians\n",
    "This exercise is for practicing passing a list to a function."
   ]
  },
  {
   "cell_type": "code",
   "execution_count": 5,
   "metadata": {
    "scrolled": true
   },
   "outputs": [
    {
     "name": "stdout",
     "output_type": "stream",
     "text": [
      "Harry Houdini\n",
      "David Copperfield\n",
      "Penn Jillette\n",
      "Lance Burton\n"
     ]
    }
   ],
   "source": [
    "def show_magicians():\n",
    "    \"\"\"Print the names of the magicians in the list\"\"\"\n",
    "    for magician in magicians:\n",
    "        print(magician.title())\n",
    "\n",
    "magicians = ['harry houdini', 'david copperfield', \n",
    "             'penn jillette', 'lance burton']\n",
    "show_magicians()"
   ]
  },
  {
   "cell_type": "markdown",
   "metadata": {},
   "source": [
    "### Exercise 8-10: Great Magicians\n",
    "This exercise is for practicing modifying a list by passing a copy of the list to a function that changes it."
   ]
  },
  {
   "cell_type": "code",
   "execution_count": 4,
   "metadata": {},
   "outputs": [
    {
     "name": "stdout",
     "output_type": "stream",
     "text": [
      "Harry Houdini\n",
      "David Copperfield\n",
      "Penn Jillette\n",
      "Lance Burton\n",
      "\n",
      "\n",
      "Lance Burton The Great\n",
      "Penn Jillette The Great\n",
      "David Copperfield The Great\n",
      "Harry Houdini The Great\n"
     ]
    }
   ],
   "source": [
    "def show_magicians(magicians):\n",
    "    \"\"\"Print the names of the magicians in the list\"\"\"\n",
    "    for magician in magicians:\n",
    "        print(magician.title())\n",
    "        \n",
    "def make_great(magicians):\n",
    "    \"\"\"Add \"the Great\" to the name of each magician\"\"\"\n",
    "    great_magicians = []\n",
    "    \n",
    "    while magicians:\n",
    "        magician = magicians.pop()\n",
    "        great_magician = magician + ' the Great'\n",
    "        great_magicians.append(great_magician)\n",
    "        \n",
    "    for great_magician in great_magicians:\n",
    "        magicians.append(great_magician)\n",
    "        \n",
    "magicians = ['harry houdini', 'david copperfield', \n",
    "             'penn jillette', 'lance burton']\n",
    "show_magicians(magicians)\n",
    "\n",
    "print(\"\\n\")\n",
    "make_great(magicians)\n",
    "show_magicians(magicians)"
   ]
  },
  {
   "cell_type": "markdown",
   "metadata": {},
   "source": [
    "### Exercise 8-11: Unchanged Magicians\n",
    "This exercise is for practicing copying a list when passing to a function, rather than modifying the original list."
   ]
  },
  {
   "cell_type": "code",
   "execution_count": 3,
   "metadata": {},
   "outputs": [
    {
     "name": "stdout",
     "output_type": "stream",
     "text": [
      "Harry Houdini\n",
      "David Copperfield\n",
      "Penn Jillette\n",
      "Lance Burton\n",
      "\n",
      "Great Magicians:\n",
      "Lance Burton The Great\n",
      "Penn Jillette The Great\n",
      "David Copperfield The Great\n",
      "Harry Houdini The Great\n",
      "\n",
      "Original Magicians:\n",
      "Harry Houdini\n",
      "David Copperfield\n",
      "Penn Jillette\n",
      "Lance Burton\n"
     ]
    }
   ],
   "source": [
    "def show_magicians(magicians):\n",
    "    \"\"\"Print the names of the magicians in the list\"\"\"\n",
    "    for magician in magicians:\n",
    "        print(magician.title())\n",
    "        \n",
    "def make_great(magicians):\n",
    "    \"\"\"Add \"the Great\" to the name of each magician\"\"\"\n",
    "    great_magicians = []\n",
    "    \n",
    "    while magicians:\n",
    "        magician = magicians.pop()\n",
    "        great_magician = magician + ' the Great'\n",
    "        great_magicians.append(great_magician)\n",
    "    \n",
    "    for great_magician in great_magicians:\n",
    "        magicians.append(great_magician)\n",
    "    \n",
    "    return magicians\n",
    "        \n",
    "magicians = ['harry houdini', 'david copperfield', \n",
    "             'penn jillette', 'lance burton']\n",
    "show_magicians(magicians)\n",
    "\n",
    "print(\"\\nGreat Magicians:\")\n",
    "great_magicians = make_great(magicians[:])\n",
    "show_magicians(great_magicians)\n",
    "\n",
    "print(\"\\nOriginal Magicians:\")\n",
    "show_magicians(magicians)"
   ]
  },
  {
   "cell_type": "markdown",
   "metadata": {},
   "source": [
    "### Exercise 8-12: Sandwiches\n",
    "This exercise is for practicing passing an arbitrary number of arguments to a function."
   ]
  },
  {
   "cell_type": "code",
   "execution_count": 2,
   "metadata": {},
   "outputs": [
    {
     "name": "stdout",
     "output_type": "stream",
     "text": [
      "\n",
      "Making the following sandwich:\n",
      "- turkey\n",
      "- avocado\n",
      "- provolone\n",
      "- lettuce\n",
      "- tomato\n",
      "\n",
      "Making the following sandwich:\n",
      "- ham\n",
      "- mustard\n",
      "- mayonnaise\n",
      "- onion\n",
      "- pickles\n",
      "- pepperjack\n",
      "\n",
      "Making the following sandwich:\n",
      "- tuna\n",
      "- cheddar\n"
     ]
    }
   ],
   "source": [
    "def make_sandwich(*sandwiches):\n",
    "    \"\"\"Print a summary of the sandwich that's been ordered\"\"\"\n",
    "    print(\"\\nMaking the following sandwich:\")\n",
    "    for sandwich in sandwiches:\n",
    "        print(\"- \" + sandwich)\n",
    "        \n",
    "make_sandwich('turkey', 'avocado', 'provolone', \n",
    "              'lettuce', 'tomato')\n",
    "make_sandwich('ham', 'mustard', 'mayonnaise', 'onion', \n",
    "              'pickles', 'pepperjack')\n",
    "make_sandwich('tuna', 'cheddar')"
   ]
  },
  {
   "cell_type": "markdown",
   "metadata": {},
   "source": [
    "### Exercise 8-13: User Profile\n",
    "This is practice with passing arbitrary keyword arguments to a function."
   ]
  },
  {
   "cell_type": "code",
   "execution_count": 17,
   "metadata": {},
   "outputs": [
    {
     "name": "stdout",
     "output_type": "stream",
     "text": [
      "{'first name': 'dana', 'last name': 'west', 'location': 'seattle', 'field': 'LIS', 'age': 36}\n"
     ]
    }
   ],
   "source": [
    "def build_profile(first, last, **user_info):\n",
    "    \"\"\"Build a dictionary containing information about a user.\"\"\"\n",
    "    profile = {}\n",
    "    profile['first name'] = first\n",
    "    profile['last name'] = last\n",
    "    for key, value in user_info.items():\n",
    "        profile[key] = value\n",
    "    return profile\n",
    "\n",
    "user_profile = build_profile('dana', 'west',\n",
    "                            location='seattle',\n",
    "                            field='LIS',\n",
    "                            age=36,)\n",
    "print(user_profile)"
   ]
  },
  {
   "cell_type": "markdown",
   "metadata": {},
   "source": [
    "### Exercise 8-14: Cars\n",
    "This exercise is for practice with passing both positional and arbitrary arguments to a function."
   ]
  },
  {
   "cell_type": "code",
   "execution_count": 16,
   "metadata": {},
   "outputs": [
    {
     "name": "stdout",
     "output_type": "stream",
     "text": [
      "{'make': 'Subaru', 'model': 'Outback', 'color': 'blue', 'tow_package': True}\n",
      "{'make': 'Honda', 'model': 'Civic', 'color': 'red', 'doors': 2}\n",
      "{'make': 'Jeep', 'model': 'Wrangler', 'color': 'yellow', 'roll_bar': True, 'transmission': 'manual'}\n"
     ]
    }
   ],
   "source": [
    "def make_car(make, model, **options):\n",
    "    \"\"\"Build a dictionary containing information about a car\"\"\"\n",
    "    car_dict = {\n",
    "        'make' : make.title(),\n",
    "        'model' : model.title(),\n",
    "        }\n",
    "    for option, value in options.items():\n",
    "        car_dict[option] = value\n",
    "    return car_dict\n",
    "\n",
    "new_subaru = make_car('subaru', 'outback', color='blue', tow_package=True)\n",
    "print(new_subaru)\n",
    "new_honda = make_car('honda', 'civic', color='red', doors=2)\n",
    "print(new_honda)\n",
    "new_jeep = make_car('jeep', 'wrangler', color='yellow', roll_bar=True, transmission='manual')\n",
    "print(new_jeep)"
   ]
  },
  {
   "cell_type": "markdown",
   "metadata": {},
   "source": [
    "### Exercise 8-15: Printing Models\n",
    "This exercise is for practice with storing a function in a module and then importing that module for use in a new program."
   ]
  },
  {
   "cell_type": "code",
   "execution_count": 1,
   "metadata": {},
   "outputs": [
    {
     "name": "stdout",
     "output_type": "stream",
     "text": [
      "Printing model: dodecahedron\n",
      "Printing model: robot pendant\n",
      "Printing model: iphone case\n",
      "\n",
      "The following models have been printed:\n",
      "dodecahedron\n",
      "robot pendant\n",
      "iphone case\n"
     ]
    }
   ],
   "source": [
    "import printing_functions as pf\n",
    "\n",
    "unprinted_designs = ['iphone case', 'robot pendant', 'dodecahedron']\n",
    "completed_models = []\n",
    "\n",
    "pf.print_models(unprinted_designs, completed_models)\n",
    "pf.show_completed_models(completed_models)"
   ]
  },
  {
   "cell_type": "markdown",
   "metadata": {},
   "source": [
    "### Exercise 8-16: Imports\n",
    "This exercise is for practice importing a module into a file and then calling the function in that module in various ways."
   ]
  },
  {
   "cell_type": "code",
   "execution_count": 8,
   "metadata": {},
   "outputs": [
    {
     "name": "stdout",
     "output_type": "stream",
     "text": [
      "{'artist': 'Prince', 'title': 'Purple Rain'}\n",
      "{'artist': 'The Beatles', 'title': 'Abbey Road'}\n",
      "{'artist': 'Garth Brooks', 'title': 'In Pieces'}\n"
     ]
    }
   ],
   "source": [
    "from make_album import make_album\n",
    "\n",
    "album = make_album('prince', 'purple rain')\n",
    "print(album)\n",
    "album = make_album('the beatles', 'abbey road')\n",
    "print(album)\n",
    "album = make_album('garth brooks', 'in pieces')\n",
    "print(album)"
   ]
  },
  {
   "cell_type": "code",
   "execution_count": 10,
   "metadata": {},
   "outputs": [
    {
     "name": "stdout",
     "output_type": "stream",
     "text": [
      "{'artist': 'Prince', 'title': 'Purple Rain'}\n",
      "{'artist': 'The Beatles', 'title': 'Abbey Road'}\n",
      "{'artist': 'Garth Brooks', 'title': 'In Pieces'}\n"
     ]
    }
   ],
   "source": [
    "import make_album\n",
    "\n",
    "album = make_album.make_album('prince', 'purple rain')\n",
    "print(album)\n",
    "album = make_album.make_album('the beatles', 'abbey road')\n",
    "print(album)\n",
    "album = make_album.make_album('garth brooks', 'in pieces')\n",
    "print(album)"
   ]
  },
  {
   "cell_type": "code",
   "execution_count": 12,
   "metadata": {},
   "outputs": [
    {
     "name": "stdout",
     "output_type": "stream",
     "text": [
      "{'artist': 'Prince', 'title': 'Purple Rain'}\n",
      "{'artist': 'The Beatles', 'title': 'Abbey Road'}\n",
      "{'artist': 'Garth Brooks', 'title': 'In Pieces'}\n"
     ]
    }
   ],
   "source": [
    "import make_album as ma\n",
    "\n",
    "album = ma.make_album('prince', 'purple rain')\n",
    "print(album)\n",
    "album = ma.make_album('the beatles', 'abbey road')\n",
    "print(album)\n",
    "album = ma.make_album('garth brooks', 'in pieces')\n",
    "print(album)"
   ]
  },
  {
   "cell_type": "code",
   "execution_count": 13,
   "metadata": {},
   "outputs": [
    {
     "name": "stdout",
     "output_type": "stream",
     "text": [
      "{'artist': 'Prince', 'title': 'Purple Rain'}\n",
      "{'artist': 'The Beatles', 'title': 'Abbey Road'}\n",
      "{'artist': 'Garth Brooks', 'title': 'In Pieces'}\n"
     ]
    }
   ],
   "source": [
    "from make_album import *\n",
    "\n",
    "album = make_album('prince', 'purple rain')\n",
    "print(album)\n",
    "album = make_album('the beatles', 'abbey road')\n",
    "print(album)\n",
    "album = make_album('garth brooks', 'in pieces')\n",
    "print(album)"
   ]
  },
  {
   "cell_type": "code",
   "execution_count": 15,
   "metadata": {},
   "outputs": [
    {
     "name": "stdout",
     "output_type": "stream",
     "text": [
      "{'artist': 'Prince', 'title': 'Purple Rain'}\n",
      "{'artist': 'The Beatles', 'title': 'Abbey Road'}\n",
      "{'artist': 'Garth Brooks', 'title': 'In Pieces'}\n"
     ]
    }
   ],
   "source": [
    "from make_album import make_album as ma\n",
    "\n",
    "album = ma('prince', 'purple rain')\n",
    "print(album)\n",
    "album = ma('the beatles', 'abbey road')\n",
    "print(album)\n",
    "album = ma('garth brooks', 'in pieces')\n",
    "print(album)"
   ]
  },
  {
   "cell_type": "markdown",
   "metadata": {},
   "source": [
    "### Exercise 8-17: Styling functions\n",
    "I went back through the programs I wrote above and modified them to ensure they are following style guidelines. Most notably, I removed extraneous spaces from default parameters I specified in my functions."
   ]
  },
  {
   "cell_type": "code",
   "execution_count": null,
   "metadata": {},
   "outputs": [],
   "source": []
  }
 ],
 "metadata": {
  "kernelspec": {
   "display_name": "Python 3",
   "language": "python",
   "name": "python3"
  },
  "language_info": {
   "codemirror_mode": {
    "name": "ipython",
    "version": 3
   },
   "file_extension": ".py",
   "mimetype": "text/x-python",
   "name": "python",
   "nbconvert_exporter": "python",
   "pygments_lexer": "ipython3",
   "version": "3.6.5"
  }
 },
 "nbformat": 4,
 "nbformat_minor": 2
}
