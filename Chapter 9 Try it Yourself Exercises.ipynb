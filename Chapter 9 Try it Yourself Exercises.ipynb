{
 "cells": [
  {
   "cell_type": "markdown",
   "metadata": {},
   "source": [
    "# Chapter 9\n",
    "This notebook will include my work on the Chapter 9 Try it Yourself Exercises."
   ]
  },
  {
   "cell_type": "markdown",
   "metadata": {},
   "source": [
    "### Exercise 9-1: Restaurant\n",
    "This exercise is for practice creating a class and then making an instance of that class. I struggled a lot with this for the longest time and could not figure out my error. Finally I realized that the method _init_ requires __TWO__ underscores before and after it! So frustrating that this wasn't explained in great detail in the text."
   ]
  },
  {
   "cell_type": "code",
   "execution_count": 9,
   "metadata": {},
   "outputs": [
    {
     "name": "stdout",
     "output_type": "stream",
     "text": [
      "The restaurant is called Seraphina.\n",
      "Seraphina serves Italian food.\n",
      "Seraphina serves Italian food.\n",
      "Seraphina is now open!\n"
     ]
    }
   ],
   "source": [
    "class Restaurant():\n",
    "    \"\"\"A simple attempt to model a restaurant.\"\"\"\n",
    "    def __init__(self, name, cuisine_type):\n",
    "        \"\"\"Initializes name and type of cuisine attributes.\"\"\"\n",
    "        self.name = name.title()\n",
    "        self.cuisine_type = cuisine_type.title()\n",
    "    \n",
    "    def describe_restaurant(self):\n",
    "        \"\"\"Print a description of the restaurant.\"\"\"\n",
    "        print(self.name + \" serves \" + self.cuisine_type + \" food.\")\n",
    "    \n",
    "    def open_restaurant(self):\n",
    "        \"\"\"Print a message that the restaurant is now open.\"\"\"\n",
    "        print(self.name + \" is now open!\")\n",
    "\n",
    "restaurant = Restaurant('seraphina', 'italian')\n",
    "print(\"The restaurant is called \" + restaurant.name + \".\")\n",
    "print(restaurant.name + \" serves \" + restaurant.cuisine_type + \" food.\")\n",
    "restaurant.describe_restaurant()\n",
    "restaurant.open_restaurant()"
   ]
  },
  {
   "cell_type": "markdown",
   "metadata": {},
   "source": [
    "### Exercise 9-2: Three Restaurants\n",
    "This exercise is for practice with modeling multiple instances of a class."
   ]
  },
  {
   "cell_type": "code",
   "execution_count": 11,
   "metadata": {},
   "outputs": [
    {
     "name": "stdout",
     "output_type": "stream",
     "text": [
      "Otter Bar serves American food.\n",
      "Pecado Bueno serves Mexican food.\n",
      "My Thai serves Thai food.\n"
     ]
    }
   ],
   "source": [
    "class Restaurant():\n",
    "    \"\"\"A simple attempt to model a restaurant.\"\"\"\n",
    "    def __init__(self, name, cuisine_type):\n",
    "        \"\"\"Initializes name and type of cuisine attributes.\"\"\"\n",
    "        self.name = name.title()\n",
    "        self.cuisine_type = cuisine_type.title()\n",
    "    \n",
    "    def describe_restaurant(self):\n",
    "        \"\"\"Print a description of the restaurant.\"\"\"\n",
    "        print(self.name + \" serves \" + self.cuisine_type + \" food.\")\n",
    "\n",
    "new_restaurant = Restaurant('otter bar', 'american')\n",
    "newer_restaurant = Restaurant('pecado bueno', 'mexican')\n",
    "newest_restaurant = Restaurant('my thai', 'thai')\n",
    "new_restaurant.describe_restaurant()\n",
    "newer_restaurant.describe_restaurant()\n",
    "newest_restaurant.describe_restaurant()"
   ]
  },
  {
   "cell_type": "markdown",
   "metadata": {},
   "source": [
    "### Exercise 9-3: Users\n",
    "This exercise is for additional practice creating a class and methods, then creating several instances and practicing calling the methods for each."
   ]
  },
  {
   "cell_type": "code",
   "execution_count": 15,
   "metadata": {},
   "outputs": [
    {
     "name": "stdout",
     "output_type": "stream",
     "text": [
      "User information: Dana West is 36 and lives in Seattle.\n",
      "Hello Dana!\n",
      "User information: Jake Rodkin is 38 and lives in Seattle.\n",
      "Hello Jake!\n",
      "User information: Lauren West is 35 and lives in Santa Rosa.\n",
      "Hello Lauren!\n",
      "User information: Rebel West is 5 and lives in Santa Rosa.\n",
      "Hello Rebel!\n"
     ]
    }
   ],
   "source": [
    "class User():\n",
    "    \"\"\"Model a user profile.\"\"\"\n",
    "    def __init__(self, first_name, last_name, age, location):\n",
    "        \"Initializes user profile contents.\"\n",
    "        self.first_name = first_name.title()\n",
    "        self.last_name = last_name.title()\n",
    "        self.age = age\n",
    "        self.location = location.title()\n",
    "    \n",
    "    def describe_user(self):\n",
    "        \"\"\"Prints a summary of the user's profile.\"\"\"\n",
    "        print(\"User information: \" + self.first_name + \" \" + self.last_name + \" is \" + str(self.age) + \n",
    "              \" and lives in \" + self.location + \".\")\n",
    "    \n",
    "    def greet_user(self):\n",
    "        \"\"\"Prints a personalized greeting to the user.\"\"\"\n",
    "        print(\"Hello \" + self.first_name + \"!\")\n",
    "        \n",
    "new_user = User('dana', 'west', 36, 'seattle')\n",
    "newer_user = User('jake', 'rodkin', 38, 'seattle')\n",
    "newest_user = User('lauren', 'west', 35, 'santa rosa')\n",
    "last_user = User('rebel', 'west', 5, 'santa rosa')\n",
    "\n",
    "new_user.describe_user()\n",
    "new_user.greet_user()\n",
    "newer_user.describe_user()\n",
    "newer_user.greet_user()\n",
    "newest_user.describe_user()\n",
    "newest_user.greet_user()\n",
    "last_user.describe_user()\n",
    "last_user.greet_user()"
   ]
  },
  {
   "cell_type": "markdown",
   "metadata": {},
   "source": [
    "### Exercise 9-4: Number Served\n",
    "This exercise is for expanding on the code from exercise 9-1 to add and modify attributes in various ways."
   ]
  },
  {
   "cell_type": "code",
   "execution_count": 22,
   "metadata": {},
   "outputs": [
    {
     "name": "stdout",
     "output_type": "stream",
     "text": [
      "Seraphina serves Italian food.\n",
      "Seraphina has served 0 diners.\n"
     ]
    }
   ],
   "source": [
    "class Restaurant():\n",
    "    \"\"\"A simple attempt to model a restaurant.\"\"\"\n",
    "    def __init__(self, name, cuisine_type):\n",
    "        \"\"\"Initializes name and type of cuisine attributes.\"\"\"\n",
    "        self.name = name.title()\n",
    "        self.cuisine_type = cuisine_type.title()\n",
    "        self.number_served = 0\n",
    "        \n",
    "    def describe_restaurant(self):\n",
    "        \"\"\"Print a description of the restaurant.\"\"\"\n",
    "        print(self.name + \" serves \" + self.cuisine_type + \" food.\")\n",
    "\n",
    "restaurant = Restaurant('seraphina', 'italian')\n",
    "restaurant.describe_restaurant()\n",
    "print(restaurant.name + \" has served \" + str(restaurant.number_served) + \" diners.\")"
   ]
  },
  {
   "cell_type": "code",
   "execution_count": 23,
   "metadata": {},
   "outputs": [
    {
     "name": "stdout",
     "output_type": "stream",
     "text": [
      "Seraphina serves Italian food.\n",
      "Seraphina has served 10 diners.\n"
     ]
    }
   ],
   "source": [
    "class Restaurant():\n",
    "    \"\"\"A simple attempt to model a restaurant.\"\"\"\n",
    "    def __init__(self, name, cuisine_type):\n",
    "        \"\"\"Initializes name and type of cuisine attributes.\"\"\"\n",
    "        self.name = name.title()\n",
    "        self.cuisine_type = cuisine_type.title()\n",
    "        self.number_served = 10\n",
    "        \n",
    "    def describe_restaurant(self):\n",
    "        \"\"\"Print a description of the restaurant.\"\"\"\n",
    "        print(self.name + \" serves \" + self.cuisine_type + \" food.\")\n",
    "\n",
    "restaurant = Restaurant('seraphina', 'italian')\n",
    "restaurant.describe_restaurant()\n",
    "print(restaurant.name + \" has served \" + str(restaurant.number_served) + \" diners.\")"
   ]
  },
  {
   "cell_type": "code",
   "execution_count": 21,
   "metadata": {},
   "outputs": [
    {
     "name": "stdout",
     "output_type": "stream",
     "text": [
      "Seraphina serves Italian food.\n",
      "Number served: 1500\n"
     ]
    }
   ],
   "source": [
    "class Restaurant():\n",
    "    \"\"\"A simple attempt to model a restaurant.\"\"\"\n",
    "    def __init__(self, name, cuisine_type):\n",
    "        \"\"\"Initializes name and type of cuisine attributes.\"\"\"\n",
    "        self.name = name.title()\n",
    "        self.cuisine_type = cuisine_type.title()\n",
    "        \n",
    "    def describe_restaurant(self):\n",
    "        \"\"\"Print a description of the restaurant.\"\"\"\n",
    "        print(self.name + \" serves \" + self.cuisine_type + \" food.\")\n",
    "    \n",
    "    def set_number_served(self, number_served):\n",
    "        \"\"\"Set the number of customers that have been served.\"\"\"\n",
    "        self.number_served = number_served\n",
    "\n",
    "restaurant = Restaurant('seraphina', 'italian')\n",
    "restaurant.describe_restaurant()\n",
    "restaurant.set_number_served(1500)\n",
    "print(\"Number served: \" + str(restaurant.number_served))"
   ]
  },
  {
   "cell_type": "code",
   "execution_count": 26,
   "metadata": {},
   "outputs": [
    {
     "name": "stdout",
     "output_type": "stream",
     "text": [
      "Seraphina serves Italian food.\n",
      "Number served: 1600\n"
     ]
    }
   ],
   "source": [
    "class Restaurant():\n",
    "    \"\"\"A simple attempt to model a restaurant.\"\"\"\n",
    "    def __init__(self, name, cuisine_type):\n",
    "        \"\"\"Initializes name and type of cuisine attributes.\"\"\"\n",
    "        self.name = name.title()\n",
    "        self.cuisine_type = cuisine_type.title()\n",
    "        \n",
    "    def describe_restaurant(self):\n",
    "        \"\"\"Print a description of the restaurant.\"\"\"\n",
    "        print(self.name + \" serves \" + self.cuisine_type + \" food.\")\n",
    "        \n",
    "    def set_number_served(self, number_served):\n",
    "        \"\"\"Set the number of customers that have been served.\"\"\"\n",
    "        self.number_served = number_served\n",
    "    \n",
    "    def increment_number_served(self, additional_served):\n",
    "        \"\"\"Increment the number of customers who have been served.\"\"\"\n",
    "        self.number_served += additional_served\n",
    "        \n",
    "restaurant = Restaurant('seraphina', 'italian')\n",
    "restaurant.describe_restaurant()\n",
    "restaurant.set_number_served(1500)\n",
    "restaurant.increment_number_served(100)\n",
    "print(\"Number served: \" + str(restaurant.number_served))"
   ]
  },
  {
   "cell_type": "markdown",
   "metadata": {},
   "source": [
    "### Exercise 9-5: Login Attempts\n",
    "This exercise adds an attribute to the code from exercise 9-3 and writes a method for incrementing login attempts by 1, then resets login attempts to 0."
   ]
  },
  {
   "cell_type": "code",
   "execution_count": 36,
   "metadata": {},
   "outputs": [
    {
     "name": "stdout",
     "output_type": "stream",
     "text": [
      "Hello Dana!\n",
      "Number of login attempts: 1\n",
      "Number of login attempts: 2\n",
      "Number of login attempts: 3\n",
      "Login has been reset to 0.\n"
     ]
    }
   ],
   "source": [
    "class User():\n",
    "    \"\"\"Model a user profile.\"\"\"\n",
    "    def __init__(self, first_name, last_name, age, location):\n",
    "        \"Initializes user profile contents.\"\n",
    "        self.first_name = first_name.title()\n",
    "        self.last_name = last_name.title()\n",
    "        self.age = age\n",
    "        self.location = location.title()\n",
    "        self.login_attempts = 0\n",
    "    \n",
    "    def describe_user(self):\n",
    "        \"\"\"Prints a summary of the user's profile.\"\"\"\n",
    "        print(\"User information: \" + self.first_name + \" \" + self.last_name + \" is \" + str(self.age) + \n",
    "              \" and lives in \" + self.location + \".\")\n",
    "        \n",
    "    def greet_user(self):\n",
    "        \"\"\"Prints a personalized greeting to the user.\"\"\"\n",
    "        print(\"Hello \" + self.first_name + \"!\")\n",
    "    \n",
    "    def increment_login_attempts(self):\n",
    "        \"Increments the value of login attempts by 1.\"\n",
    "        self.login_attempts += 1\n",
    "        print(\"Number of login attempts: \" + str(self.login_attempts))\n",
    "    \n",
    "    def reset_login_attempts(self):\n",
    "        \"\"\"Resets the value of login attempts to 0.\"\"\"\n",
    "        self.login_attempts = 0\n",
    "        print(\"Login has been reset to \" + str(self.login_attempts) + \".\")\n",
    "\n",
    "user = User('dana', 'west', 36, 'seattle')\n",
    "user.greet_user()\n",
    "user.increment_login_attempts()\n",
    "user.increment_login_attempts()\n",
    "user.increment_login_attempts()\n",
    "user.reset_login_attempts()"
   ]
  },
  {
   "cell_type": "markdown",
   "metadata": {},
   "source": [
    "### Exercise 9-6: Ice Cream Stand\n",
    "This exercise is for practicing creating a child class from a parent class (in this case the restaurant parent class from exercise 9-1.)"
   ]
  },
  {
   "cell_type": "code",
   "execution_count": 40,
   "metadata": {},
   "outputs": [
    {
     "name": "stdout",
     "output_type": "stream",
     "text": [
      "The Big Dipper serves ice cream.\n",
      "\n",
      "We have the following flavors available today:\n",
      "- Mint Chocolate Chip\n",
      "- Rainbow Sherbet\n",
      "- Cookies And Cream\n"
     ]
    }
   ],
   "source": [
    "class Restaurant():\n",
    "    \"\"\"A simple attempt to model a restaurant.\"\"\"\n",
    "    def __init__(self, name, cuisine_type):\n",
    "        \"\"\"Initializes name and type of cuisine attributes.\"\"\"\n",
    "        self.name = name.title()\n",
    "        self.cuisine_type = cuisine_type\n",
    "    \n",
    "    def describe_restaurant(self):\n",
    "        \"\"\"Print a description of the restaurant.\"\"\"\n",
    "        print(self.name + \" serves \" + self.cuisine_type + \".\")\n",
    "    \n",
    "    def open_restaurant(self):\n",
    "        \"\"\"Print a message that the restaurant is now open.\"\"\"\n",
    "        print(self.name + \" is now open!\")\n",
    "\n",
    "class IceCreamStand(Restaurant):\n",
    "    \"\"\"Represent an ice cream stand.\"\"\"\n",
    "    def __init__(self, name, cuisine_type='ice cream'):\n",
    "        \"\"\"\n",
    "        Initialize attributes of the parent class.\n",
    "        Then initialize attributes specific to an ice cream stand.\n",
    "        \"\"\"\n",
    "        super().__init__(name, cuisine_type)\n",
    "        self.flavors = []\n",
    "    \n",
    "    def list_flavors(self):\n",
    "        \"\"\"Print a list of the flavors offered by the ice cream stand.\"\"\"\n",
    "        print(\"\\nWe have the following flavors available today:\")\n",
    "        for flavor in self.flavors:\n",
    "            print(\"- \" + flavor.title())\n",
    "\n",
    "big_dipper = IceCreamStand('the big dipper')\n",
    "big_dipper.flavors = ['mint chocolate chip', 'rainbow sherbet', 'cookies and cream']\n",
    "\n",
    "big_dipper.describe_restaurant()\n",
    "big_dipper.list_flavors()"
   ]
  },
  {
   "cell_type": "markdown",
   "metadata": {},
   "source": [
    "### Exercise 9-7: Admin\n",
    "This exercise is for practice creating a child class from a parent class (in this case the class created in exercise 9-3). As far as I can tell, it is exactly the same as the previous exercise."
   ]
  },
  {
   "cell_type": "code",
   "execution_count": 42,
   "metadata": {},
   "outputs": [
    {
     "name": "stdout",
     "output_type": "stream",
     "text": [
      "Hello Dana!\n",
      "\n",
      "As Administrator you have the following privileges: \n",
      "- Delete Post\n",
      "- Block User\n",
      "- Edit Post\n",
      "- Archive Post\n"
     ]
    }
   ],
   "source": [
    "class User():\n",
    "    \"\"\"Model a user profile.\"\"\"\n",
    "    def __init__(self, first_name, last_name, age, location):\n",
    "        \"Initializes user profile contents.\"\n",
    "        self.first_name = first_name.title()\n",
    "        self.last_name = last_name.title()\n",
    "        self.age = age\n",
    "        self.location = location.title()\n",
    "    \n",
    "    def describe_user(self):\n",
    "        \"\"\"Prints a summary of the user's profile.\"\"\"\n",
    "        print(\"User information: \" + self.first_name + \" \" + self.last_name + \" is \" + str(self.age) + \n",
    "              \" and lives in \" + self.location + \".\")\n",
    "    \n",
    "    def greet_user(self):\n",
    "        \"\"\"Prints a personalized greeting to the user.\"\"\"\n",
    "        print(\"Hello \" + self.first_name + \"!\")\n",
    "\n",
    "class Admin(User):\n",
    "    \"\"\"Represent a website administrator.\"\"\"\n",
    "    def __init__(self, first_name, last_name, age, location):\n",
    "        \"\"\"\n",
    "        Initialize user profile contents.\n",
    "        Then initialize attributes specific to Admin.\n",
    "        \"\"\"\n",
    "        super().__init__(first_name, last_name, age, location)\n",
    "        self.privileges = []\n",
    "    \n",
    "    def show_privileges(self):\n",
    "        \"\"\"Print a list of Admin privileges.\"\"\"\n",
    "        print(\"\\nAs Administrator you have the following privileges: \")\n",
    "        for privilege in self.privileges:\n",
    "            print(\"- \" + privilege.title())\n",
    "\n",
    "dana = Admin('dana', 'west', 36, 'seattle')\n",
    "dana.privileges = ['delete post', 'block user', 'edit post', 'archive post']\n",
    "\n",
    "dana.greet_user()\n",
    "dana.show_privileges()"
   ]
  },
  {
   "cell_type": "markdown",
   "metadata": {},
   "source": [
    "### Exercise 9-8: Privileges\n",
    "This exercise is for creating a separate class for Privileges, rather than including them as an attribute in Admin (as above)."
   ]
  },
  {
   "cell_type": "code",
   "execution_count": 59,
   "metadata": {},
   "outputs": [
    {
     "name": "stdout",
     "output_type": "stream",
     "text": [
      "User information: Dana West is 36 and lives in Seattle.\n",
      "Hello Dana!\n",
      "\n",
      "As Administrator you have the following privileges: \n",
      "- Delete Post\n",
      "- Block User\n",
      "- Edit Post\n",
      "- Archive Post\n"
     ]
    }
   ],
   "source": [
    "class User():\n",
    "    \"\"\"Model a user profile.\"\"\"\n",
    "    def __init__(self, first_name, last_name, age, location):\n",
    "        \"Initializes user profile contents.\"\n",
    "        self.first_name = first_name.title()\n",
    "        self.last_name = last_name.title()\n",
    "        self.age = age\n",
    "        self.location = location.title()\n",
    "    \n",
    "    def describe_user(self):\n",
    "        \"\"\"Prints a summary of the user's profile.\"\"\"\n",
    "        print(\"User information: \" + self.first_name + \" \" + self.last_name + \" is \" + str(self.age) + \n",
    "              \" and lives in \" + self.location + \".\")\n",
    "    \n",
    "    def greet_user(self):\n",
    "        \"\"\"Prints a personalized greeting to the user.\"\"\"\n",
    "        print(\"Hello \" + self.first_name + \"!\")\n",
    "            \n",
    "class Admin(User):\n",
    "    \"\"\"Represent a website administrator.\"\"\"\n",
    "    def __init__(self, first_name, last_name, age, location):\n",
    "        \"\"\"\n",
    "        Initialize user profile contents.\n",
    "        Then initialize attributes specific to Admin.\n",
    "        \"\"\"\n",
    "        super().__init__(first_name, last_name, age, location)\n",
    "        \n",
    "        self.privileges = Privileges()\n",
    "\n",
    "class Privileges():\n",
    "    \"\"\"A class to store an administrator's privileges.\"\"\"\n",
    "    def __init__(self, privileges=[]):\n",
    "        self.privileges = privileges\n",
    "        \n",
    "    def show_privileges(self):\n",
    "        \"\"\"Print a list of Admin privileges.\"\"\"\n",
    "        print(\"\\nAs Administrator you have the following privileges: \")\n",
    "        for privilege in self.privileges:\n",
    "            print(\"- \" + privilege.title())    \n",
    "        \n",
    "dana = Admin('dana', 'west', 36, 'seattle')\n",
    "dana.describe_user()\n",
    "dana.greet_user()\n",
    "dana_privileges = ['delete post', 'block user', 'edit post', 'archive post']\n",
    "dana.privileges.privileges = dana_privileges\n",
    "dana.privileges.show_privileges()"
   ]
  },
  {
   "cell_type": "markdown",
   "metadata": {},
   "source": [
    "### Exercise 9-9: Battery Upgrade\n",
    "This exercise modifies _electric_car.py_ by adding a method to the Battery class that checks the battery size and upgrades it to 85 if it's not already at that capacity."
   ]
  },
  {
   "cell_type": "code",
   "execution_count": 62,
   "metadata": {},
   "outputs": [
    {
     "name": "stdout",
     "output_type": "stream",
     "text": [
      "2016 Tesla Model S\n",
      "This car has a 70 kWh battery.\n",
      "This car can go approximately 240 miles on a full charge.\n"
     ]
    }
   ],
   "source": [
    "class Car():\n",
    "    \"\"\"A simple attempt to represent a car.\"\"\"\n",
    "    \n",
    "    def __init__(self, make, model, year):\n",
    "        self.make = make\n",
    "        self.model = model\n",
    "        self.year = year\n",
    "        self.odometer_reading = 0\n",
    "        \n",
    "    def get_descriptive_name(self):\n",
    "        long_name = str(self.year) + ' ' + self.make + ' ' + self.model\n",
    "        return long_name.title()\n",
    "    \n",
    "    def read_odometer(self):\n",
    "        print(\"This car has \" + str(self.odometer_reading) + \" miles on it.\")\n",
    "        \n",
    "    def update_odometer(self):\n",
    "        if mileage >= self.odometer.reading:\n",
    "            self.odometer_reading = mileage\n",
    "        else:\n",
    "            print(\"You can't roll back an odometer!\")\n",
    "    \n",
    "    def increment_odometer(self, miles):\n",
    "        self.odometer_reading += miles\n",
    "        \n",
    "class Battery():\n",
    "    \"\"\"A simple attempt to model a battery for an electric car.\"\"\"\n",
    "    \n",
    "    def __init__(self, battery_size = 70):\n",
    "        \"\"\"Initialize the battery's attributes.\"\"\"\n",
    "        self.battery_size = battery_size\n",
    "    \n",
    "    def describe_battery(self):\n",
    "        \"\"\"Print a statement describing the battery size.\"\"\"\n",
    "        print(\"This car has a \" + str(self.battery_size) + \" kWh battery.\")\n",
    "    \n",
    "    def get_range(self):\n",
    "        \"\"\"Print a statement about the range this battery provides.\"\"\"\n",
    "        if self.battery_size == 70:\n",
    "            range = 240\n",
    "        elif self.battery_size == 85:\n",
    "            range = 270\n",
    "        \n",
    "        message = \"This car can go approximately \" + str(range)\n",
    "        message += \" miles on a full charge.\"\n",
    "        print(message)\n",
    "        \n",
    "class ElectricCar(Car):\n",
    "    \"\"\"Represent aspects of a car, specific to electric vehicles.\"\"\"\n",
    "    \n",
    "    def __init__(self, make, model, year):\n",
    "        \"\"\"\n",
    "        Initialize attributes of the parent class.\n",
    "        Then initialize attributes specific to an electric car.\n",
    "        \"\"\"\n",
    "        super().__init__(make, model, year)\n",
    "        self.battery = Battery()\n",
    "\n",
    "my_tesla = ElectricCar('tesla', 'model s', 2016)\n",
    "print(my_tesla.get_descriptive_name())\n",
    "my_tesla.battery.describe_battery()\n",
    "my_tesla.battery.get_range()"
   ]
  },
  {
   "cell_type": "code",
   "execution_count": 67,
   "metadata": {},
   "outputs": [
    {
     "name": "stdout",
     "output_type": "stream",
     "text": [
      "2016 Tesla Model S\n",
      "This car has a 70 kWh battery.\n",
      "This car can go approximately 240 miles on a full charge.\n",
      "The battery has been upgraded to 85 kWh.\n",
      "This car can go approximately 270 miles on a full charge.\n"
     ]
    }
   ],
   "source": [
    "class Car():\n",
    "    \"\"\"A simple attempt to represent a car.\"\"\"\n",
    "    \n",
    "    def __init__(self, make, model, year):\n",
    "        self.make = make\n",
    "        self.model = model\n",
    "        self.year = year\n",
    "        self.odometer_reading = 0\n",
    "        \n",
    "    def get_descriptive_name(self):\n",
    "        long_name = str(self.year) + ' ' + self.make + ' ' + self.model\n",
    "        return long_name.title()\n",
    "    \n",
    "    def read_odometer(self):\n",
    "        print(\"This car has \" + str(self.odometer_reading) + \" miles on it.\")\n",
    "        \n",
    "    def update_odometer(self):\n",
    "        if mileage >= self.odometer.reading:\n",
    "            self.odometer_reading = mileage\n",
    "        else:\n",
    "            print(\"You can't roll back an odometer!\")\n",
    "    \n",
    "    def increment_odometer(self, miles):\n",
    "        self.odometer_reading += miles\n",
    "        \n",
    "class Battery():\n",
    "    \"\"\"A simple attempt to model a battery for an electric car.\"\"\"\n",
    "    \n",
    "    def __init__(self, battery_size = 70):\n",
    "        \"\"\"Initialize the battery's attributes.\"\"\"\n",
    "        self.battery_size = battery_size\n",
    "    \n",
    "    def describe_battery(self):\n",
    "        \"\"\"Print a statement describing the battery size.\"\"\"\n",
    "        print(\"This car has a \" + str(self.battery_size) + \" kWh battery.\")\n",
    "        \n",
    "    def get_range(self):\n",
    "        \"\"\"Print a statement about the range this battery provides.\"\"\"\n",
    "        if self.battery_size == 70:\n",
    "            range = 240\n",
    "        elif self.battery_size == 85:\n",
    "            range = 270\n",
    "        \n",
    "        message = \"This car can go approximately \" + str(range)\n",
    "        message += \" miles on a full charge.\"\n",
    "        print(message)\n",
    "        \n",
    "    def upgrade_battery(self):\n",
    "        \"\"\"Upgrade the car's battery, if possible.\"\"\"\n",
    "        if self.battery_size == 70:\n",
    "            self.battery_size = 85\n",
    "            print(\"The battery has been upgraded to \" + str(self.battery_size) + \" kWh.\")\n",
    "        else:\n",
    "            print(\"The battery is already upgraded.\")\n",
    "        \n",
    "class ElectricCar(Car):\n",
    "    \"\"\"Represent aspects of a car, specific to electric vehicles.\"\"\"\n",
    "    \n",
    "    def __init__(self, make, model, year):\n",
    "        \"\"\"\n",
    "        Initialize attributes of the parent class.\n",
    "        Then initialize attributes specific to an electric car.\n",
    "        \"\"\"\n",
    "        super().__init__(make, model, year)\n",
    "        self.battery = Battery()\n",
    "\n",
    "my_tesla = ElectricCar('tesla', 'model s', 2016)\n",
    "print(my_tesla.get_descriptive_name())\n",
    "my_tesla.battery.describe_battery()\n",
    "my_tesla.battery.get_range()\n",
    "my_tesla.battery.upgrade_battery()\n",
    "my_tesla.battery.get_range()"
   ]
  },
  {
   "cell_type": "markdown",
   "metadata": {},
   "source": [
    "### Exercise 9-10: Imported Restaurant\n",
    "This exercise practices storing a class in a module and then importing that module."
   ]
  },
  {
   "cell_type": "code",
   "execution_count": 68,
   "metadata": {},
   "outputs": [
    {
     "name": "stdout",
     "output_type": "stream",
     "text": [
      "Seraphina serves Italian.\n",
      "Seraphina is now open!\n"
     ]
    }
   ],
   "source": [
    "\"\"\"A class used to represent restaurants.\"\"\"\n",
    "\n",
    "from restaurant import Restaurant\n",
    "\n",
    "new_restaurant = Restaurant('seraphina', 'Italian')\n",
    "new_restaurant.describe_restaurant()\n",
    "new_restaurant.open_restaurant()"
   ]
  },
  {
   "cell_type": "markdown",
   "metadata": {},
   "source": [
    "### Exercise 9-11: Imported Admin\n",
    "Similar to the exercise above, this one asks that I store multiple classes in a module, then import the module to call one method."
   ]
  },
  {
   "cell_type": "code",
   "execution_count": 70,
   "metadata": {},
   "outputs": [
    {
     "name": "stdout",
     "output_type": "stream",
     "text": [
      "Hello Dana!\n",
      "\n",
      "As Administrator you have the following privileges: \n",
      "- Delete Post\n",
      "- Block User\n",
      "- Edit Post\n",
      "- Archive Post\n"
     ]
    }
   ],
   "source": [
    "\"\"\"A class used to represent users, administrators, and administrative privileges.\"\"\"\n",
    "\n",
    "import admin\n",
    "\n",
    "dana = Admin('dana', 'west', 36, 'seattle')\n",
    "dana.greet_user()\n",
    "dana_privileges = ['delete post', 'block user', 'edit post', 'archive post']\n",
    "dana.privileges.privileges = dana_privileges\n",
    "dana.privileges.show_privileges()"
   ]
  },
  {
   "cell_type": "markdown",
   "metadata": {},
   "source": [
    "### Exercise 9-12: Multiple Modules\n",
    "This exercise practices storing the User class in one module, then importing it into the module where the Admin and Privileges classes are stored. The code below looks identical to above, except that the file _admin.py_ has been changed so that it now imports _user.py_, which is where the User class is stored."
   ]
  },
  {
   "cell_type": "code",
   "execution_count": 71,
   "metadata": {},
   "outputs": [
    {
     "name": "stdout",
     "output_type": "stream",
     "text": [
      "Hello Dana!\n",
      "\n",
      "As Administrator you have the following privileges: \n",
      "- Delete Post\n",
      "- Block User\n",
      "- Edit Post\n",
      "- Archive Post\n"
     ]
    }
   ],
   "source": [
    "\"\"\"A class used to represent users, administrators, and administrative privileges.\"\"\"\n",
    "\n",
    "import admin\n",
    "\n",
    "dana = Admin('dana', 'west', 36, 'seattle')\n",
    "dana.greet_user()\n",
    "dana_privileges = ['delete post', 'block user', 'edit post', 'archive post']\n",
    "dana.privileges.privileges = dana_privileges\n",
    "dana.privileges.show_privileges()"
   ]
  },
  {
   "cell_type": "markdown",
   "metadata": {},
   "source": [
    "### Exercise 9-13: OrderedDict Rewrite\n",
    "This exercise is for practicing using the _collections_ module in the Python Standard Library to keep the dictionary entries in a prior program in order. I tried this twice with two different orders of entries for the glossary just to test and make sure they were being added in the proper order."
   ]
  },
  {
   "cell_type": "code",
   "execution_count": 72,
   "metadata": {},
   "outputs": [
    {
     "name": "stdout",
     "output_type": "stream",
     "text": [
      "list: a collection of items in a particular order\n",
      "float: any number with a decimal point\n",
      "looping: running through all items in a list, performing the same task with each one\n",
      "input: information the program prompts the user to enter\n",
      "string: a series of characters\n"
     ]
    }
   ],
   "source": [
    "from collections import OrderedDict\n",
    "\n",
    "glossary = OrderedDict()\n",
    "\n",
    "glossary['list'] = 'a collection of items in a particular order' \n",
    "glossary['float'] = 'any number with a decimal point'\n",
    "glossary['looping'] = 'running through all items in a list, performing the same task with each one'\n",
    "glossary['input'] = 'information the program prompts the user to enter'\n",
    "glossary['string'] = 'a series of characters'\n",
    "\n",
    "for word, definition in glossary.items():\n",
    "    print(word + \": \" + definition)"
   ]
  },
  {
   "cell_type": "code",
   "execution_count": 73,
   "metadata": {},
   "outputs": [
    {
     "name": "stdout",
     "output_type": "stream",
     "text": [
      "float: any number with a decimal point\n",
      "input: information the program prompts the user to enter\n",
      "list: a collection of items in a particular order\n",
      "looping: running through all items in a list, performing the same task with each one\n",
      "string: a series of characters\n"
     ]
    }
   ],
   "source": [
    "from collections import OrderedDict\n",
    "\n",
    "glossary = OrderedDict()\n",
    "\n",
    "glossary['float'] = 'any number with a decimal point'\n",
    "glossary['input'] = 'information the program prompts the user to enter'\n",
    "glossary['list'] = 'a collection of items in a particular order' \n",
    "glossary['looping'] = 'running through all items in a list, performing the same task with each one'\n",
    "glossary['string'] = 'a series of characters'\n",
    "\n",
    "for word, definition in glossary.items():\n",
    "    print(word + \": \" + definition)"
   ]
  },
  {
   "cell_type": "markdown",
   "metadata": {},
   "source": [
    "### Exercise 9-14: Dice\n",
    "This exercise uses the module _random_ from the Python Standard Library, which contains the function _randint()_ to return a random number in a range the coder defines."
   ]
  },
  {
   "cell_type": "code",
   "execution_count": 104,
   "metadata": {},
   "outputs": [
    {
     "name": "stdout",
     "output_type": "stream",
     "text": [
      "10 rolls of a six-sided die:\n",
      "[1, 1, 2, 5, 3, 6, 2, 2, 1, 2]\n",
      "\n",
      "10 rolls of a ten-sided die:\n",
      "[9, 7, 6, 1, 8, 6, 5, 1, 3, 9]\n",
      "\n",
      "10 rolls of a twenty-sided die:\n",
      "[15, 2, 2, 4, 19, 18, 19, 4, 12, 12]\n"
     ]
    }
   ],
   "source": [
    "from random import randint\n",
    "\n",
    "class Die():\n",
    "    \"\"\"A model of a die, which can be rolled.\"\"\"\n",
    "    def __init__(self, sides=6):\n",
    "        \"\"\"Initialize the die\"\"\"\n",
    "        self.sides = sides\n",
    "    \n",
    "    def roll_die(self):\n",
    "        \"\"\"Returns a number between 1 and the number of sides the die has.\"\"\"\n",
    "        return randint(1, self.sides)\n",
    "\n",
    "#Make a six-sided die and roll it 10 times.\n",
    "d6 = Die()\n",
    "\n",
    "results = []\n",
    "for roll_num in range(10):\n",
    "    result = d6.roll_die()\n",
    "    results.append(result)\n",
    "print(\"10 rolls of a six-sided die:\")\n",
    "print(results)\n",
    "\n",
    "#Make a ten-sided die and roll it 10 times.\n",
    "d10 = Die(sides=10)\n",
    "\n",
    "results = []\n",
    "for roll_num in range(10):\n",
    "    result = d10.roll_die()\n",
    "    results.append(result)\n",
    "print(\"\\n10 rolls of a ten-sided die:\")\n",
    "print(results)\n",
    "\n",
    "#Make a twenty-sided die and roll it 10 times.\n",
    "d20 = Die(sides=20)\n",
    "\n",
    "results = []\n",
    "for roll_num in range(10):\n",
    "    result = d20.roll_die()\n",
    "    results.append(result)\n",
    "print(\"\\n10 rolls of a twenty-sided die:\")\n",
    "print(results)"
   ]
  },
  {
   "cell_type": "markdown",
   "metadata": {},
   "source": [
    "### Exercise 9-15: Python Module of the Week\n",
    "I went to _www.pymotw.com_ and read about __copy__. I have to say that I barely understood most of what it said!"
   ]
  },
  {
   "cell_type": "code",
   "execution_count": null,
   "metadata": {},
   "outputs": [],
   "source": []
  }
 ],
 "metadata": {
  "kernelspec": {
   "display_name": "Python 3",
   "language": "python",
   "name": "python3"
  },
  "language_info": {
   "codemirror_mode": {
    "name": "ipython",
    "version": 3
   },
   "file_extension": ".py",
   "mimetype": "text/x-python",
   "name": "python",
   "nbconvert_exporter": "python",
   "pygments_lexer": "ipython3",
   "version": "3.6.5"
  }
 },
 "nbformat": 4,
 "nbformat_minor": 2
}
