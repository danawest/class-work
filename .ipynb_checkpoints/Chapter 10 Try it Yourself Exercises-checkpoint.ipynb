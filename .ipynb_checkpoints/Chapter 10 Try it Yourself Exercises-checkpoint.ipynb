{
 "cells": [
  {
   "cell_type": "markdown",
   "metadata": {},
   "source": [
    "## Chapter 10\n",
    "This notebook includes my work on the Chapter 10 Try it Yourself exercises."
   ]
  },
  {
   "cell_type": "markdown",
   "metadata": {},
   "source": [
    "### Exercise 10-1: Learning Python\n",
    "This exercise is for practice working with .txt files in Python. The first program loops over the file object and prints each line. The second program prints the contents by reading in the entire file, and the third program stores the lines in a list and then works with them outside the __with__ block."
   ]
  },
  {
   "cell_type": "code",
   "execution_count": 1,
   "metadata": {},
   "outputs": [
    {
     "name": "stdout",
     "output_type": "stream",
     "text": [
      "In Python you can store a class in a module and then import that module into your program.\n",
      "In Python you can loop through a list.\n",
      "In Python you can store user data in a dictionary.\n",
      "In Python you can write programs that ask for user input.\n"
     ]
    }
   ],
   "source": [
    "filename = 'learning_python.txt'\n",
    "\n",
    "with open(filename) as file_object:\n",
    "    lines = file_object.readlines()\n",
    "\n",
    "for line in lines:\n",
    "    print(line.rstrip())"
   ]
  },
  {
   "cell_type": "code",
   "execution_count": 2,
   "metadata": {},
   "outputs": [
    {
     "name": "stdout",
     "output_type": "stream",
     "text": [
      "In Python you can store a class in a module and then import that module into your program.\n",
      "In Python you can loop through a list.\n",
      "In Python you can store user data in a dictionary.\n",
      "In Python you can write programs that ask for user input.\n"
     ]
    }
   ],
   "source": [
    "filename = 'learning_python.txt'\n",
    "\n",
    "with open(filename) as file_object:\n",
    "    for line in file_object:\n",
    "        print(line.rstrip())"
   ]
  },
  {
   "cell_type": "code",
   "execution_count": 5,
   "metadata": {},
   "outputs": [
    {
     "name": "stdout",
     "output_type": "stream",
     "text": [
      "In Python you can store a class in a module and then import that module into your program.\n",
      "In Python you can loop through a list.\n",
      "In Python you can store user data in a dictionary.\n",
      "In Python you can write programs that ask for user input.\n",
      "238\n"
     ]
    }
   ],
   "source": [
    "filename = 'learning_python.txt'\n",
    "\n",
    "with open(filename) as file_object:\n",
    "    lines = file_object.readlines()\n",
    "\n",
    "line_string = ''\n",
    "for line in lines:\n",
    "    line_string += line\n",
    "\n",
    "print(line_string)\n",
    "print(len(line_string))"
   ]
  },
  {
   "cell_type": "markdown",
   "metadata": {},
   "source": [
    "### Exercise 10-2: Learning C\n",
    "This exercise uses the same .txt file as the one above, except this time it is for practice with using the __replace()__ method to replace any word in a string with a different word."
   ]
  },
  {
   "cell_type": "code",
   "execution_count": 13,
   "metadata": {},
   "outputs": [
    {
     "name": "stdout",
     "output_type": "stream",
     "text": [
      "With Python you can store a class in a module and then import that module into your program.\n",
      "With Python you can loop through a list.\n",
      "With Python you can store user data in a dictionary.\n",
      "With Python you can write programs that ask for user input.\n"
     ]
    }
   ],
   "source": [
    "filename = 'learning_python.txt'\n",
    "\n",
    "with open(filename) as file_object:\n",
    "    lines = file_object.readlines()\n",
    "\n",
    "for line in lines:\n",
    "    line = line.rstrip()\n",
    "    print(line.replace('In', 'With'))"
   ]
  },
  {
   "cell_type": "markdown",
   "metadata": {},
   "source": [
    "### Exercise 10-3: Guest\n",
    "This exercise practices adding user input to a .txt file using the __write()__ function."
   ]
  },
  {
   "cell_type": "code",
   "execution_count": 1,
   "metadata": {},
   "outputs": [
    {
     "name": "stdout",
     "output_type": "stream",
     "text": [
      "What is your name? Dana\n"
     ]
    }
   ],
   "source": [
    "name = input(\"What is your name? \")\n",
    "\n",
    "filename = 'guest.txt'\n",
    "\n",
    "with open(filename, 'w') as file_object:\n",
    "    file_object.write(name)"
   ]
  },
  {
   "cell_type": "code",
   "execution_count": 2,
   "metadata": {},
   "outputs": [
    {
     "name": "stdout",
     "output_type": "stream",
     "text": [
      "Dana\n"
     ]
    }
   ],
   "source": [
    "filename = 'guest.txt'\n",
    "\n",
    "with open(filename) as file_object:\n",
    "    for line in file_object:\n",
    "        print(line.rstrip())"
   ]
  },
  {
   "cell_type": "markdown",
   "metadata": {},
   "source": [
    "### Exercise 10-4: Guest Book\n",
    "This exercise builds on the previous one by including a __while__ loop that prompts users for their name. The program then adds their name to a .txt file."
   ]
  },
  {
   "cell_type": "code",
   "execution_count": 1,
   "metadata": {},
   "outputs": [
    {
     "name": "stdout",
     "output_type": "stream",
     "text": [
      "Enter 'quit' when you have finished signing in.\n",
      "What is your name? Dana\n",
      "Hello Dana! I've added you to the guest book.\n",
      "What is your name? Jake\n",
      "Hello Jake! I've added you to the guest book.\n",
      "What is your name? Nancy\n",
      "Hello Nancy! I've added you to the guest book.\n",
      "What is your name? quit\n"
     ]
    }
   ],
   "source": [
    "filename = 'guest_book.txt'\n",
    "\n",
    "print(\"Enter 'quit' when you have finished signing in.\")\n",
    "while True:\n",
    "    name = input(\"What is your name? \")\n",
    "    if name == 'quit':\n",
    "        break\n",
    "    else:\n",
    "        with open (filename, 'a') as file_object:\n",
    "            file_object.write(name + \"\\n\")\n",
    "        print(\"Hello \" + name + \"! I've added you to the guest book.\")"
   ]
  },
  {
   "cell_type": "code",
   "execution_count": 2,
   "metadata": {},
   "outputs": [
    {
     "name": "stdout",
     "output_type": "stream",
     "text": [
      "Dana\n",
      "Jake\n",
      "Nancy\n"
     ]
    }
   ],
   "source": [
    "filename = 'guest_book.txt'\n",
    "\n",
    "with open(filename) as file_object:\n",
    "    for line in file_object:\n",
    "        print(line.rstrip())"
   ]
  },
  {
   "cell_type": "markdown",
   "metadata": {},
   "source": [
    "### Exercise 10-5: Programming Poll\n",
    "This exercise is very similar to the one above, except that it uses the polling version of the __while__ loop."
   ]
  },
  {
   "cell_type": "code",
   "execution_count": 5,
   "metadata": {},
   "outputs": [
    {
     "name": "stdout",
     "output_type": "stream",
     "text": [
      "Why do you like programming? It is satisfying to solve problems.\n",
      "Would you like to respond to the poll again? (yes/no) yes\n",
      "Why do you like programming? I enjoy making video games.\n",
      "Would you like to respond to the poll again? (yes/no) yes\n",
      "Why do you like programming? It has applications in the real world.\n",
      "Would you like to respond to the poll again? (yes/no) no\n"
     ]
    }
   ],
   "source": [
    "filename = 'programming_poll.txt'\n",
    "\n",
    "responses = []\n",
    "\n",
    "while True:\n",
    "    response = input(\"Why do you like programming? \")\n",
    "    responses.append(response)\n",
    "    \n",
    "   \n",
    "    repeat = input(\"Would you like to respond to the poll again? (yes/no) \")\n",
    "    if repeat == 'no':\n",
    "        break\n",
    "\n",
    "with open (filename, 'w') as file_object:\n",
    "    for response in responses:\n",
    "        file_object.write(response + \"\\n\")"
   ]
  },
  {
   "cell_type": "code",
   "execution_count": 6,
   "metadata": {},
   "outputs": [
    {
     "name": "stdout",
     "output_type": "stream",
     "text": [
      "It is satisfying to solve problems.\n",
      "I enjoy making video games.\n",
      "It has applications in the real world.\n"
     ]
    }
   ],
   "source": [
    "filename = 'programming_poll.txt'\n",
    "\n",
    "with open(filename) as file_object:\n",
    "    for line in file_object:\n",
    "        print(line.rstrip())"
   ]
  },
  {
   "cell_type": "markdown",
   "metadata": {},
   "source": [
    "### Exercise 10-6: Addition\n",
    "This exercise is for practice error-trapping in an addition program."
   ]
  },
  {
   "cell_type": "code",
   "execution_count": 11,
   "metadata": {
    "scrolled": false
   },
   "outputs": [
    {
     "name": "stdout",
     "output_type": "stream",
     "text": [
      "Give me two numbers, and I'll add them together.\n",
      "\n",
      "First number: 30\n",
      "\n",
      "Second number: pete\n",
      "Invalid input. Please enter a number!\n"
     ]
    }
   ],
   "source": [
    "print(\"Give me two numbers, and I'll add them together.\")\n",
    "\n",
    "try:\n",
    "    first_number = input(\"\\nFirst number: \")\n",
    "    first_number = int(first_number)\n",
    "    \n",
    "    second_number = input(\"\\nSecond number: \")\n",
    "    second_number = int(second_number)\n",
    "    \n",
    "except ValueError:\n",
    "    print(\"Invalid input. Please enter a number!\")\n",
    "    \n",
    "else:\n",
    "    sum = first_number + second_number\n",
    "    print(\"The sum of \" + str(first_number) + \" and \" + str(second_number) + \" is \" + str(sum) + \".\")"
   ]
  },
  {
   "cell_type": "markdown",
   "metadata": {},
   "source": [
    "### Exercise 10-7: Addition Calculator\n",
    "This is building on the code from the previous exercise by wrapping the addition in a __while__ loop in order to continue entering numbers even if the user makes a mistake."
   ]
  },
  {
   "cell_type": "code",
   "execution_count": 14,
   "metadata": {},
   "outputs": [
    {
     "name": "stdout",
     "output_type": "stream",
     "text": [
      "Give me two numbers, and I'll add them together.\n",
      "Enter 'done' when you are finished.\n",
      "\n",
      "First number: eric\n",
      "Invalid input! Please enter a number!\n",
      "\n",
      "First number: 12\n",
      "\n",
      "Second number: dave\n",
      "Invalid input! Please enter a number!\n",
      "\n",
      "First number: 32\n",
      "\n",
      "Second number: 44\n",
      "The sum of 32 and 44 is 76.\n",
      "\n",
      "First number: done\n"
     ]
    }
   ],
   "source": [
    "print(\"Give me two numbers, and I'll add them together.\")\n",
    "print(\"Enter 'done' when you are finished.\")\n",
    "\n",
    "while True:\n",
    "    try:\n",
    "        first_number = input(\"\\nFirst number: \")\n",
    "        if first_number == 'done':\n",
    "            break\n",
    "        \n",
    "        first_number = int(first_number)\n",
    "        \n",
    "        second_number = input(\"\\nSecond number: \") \n",
    "        if second_number == 'done':\n",
    "            break\n",
    "        \n",
    "        second_number = int(second_number)\n",
    "        \n",
    "    except ValueError:\n",
    "        print(\"Invalid input! Please enter a number!\")\n",
    "        \n",
    "    else:\n",
    "        sum = first_number + second_number\n",
    "        print(\"The sum of \" + str(first_number) + \" and \" + str(second_number) + \" is \" + str(sum) + \".\")"
   ]
  },
  {
   "cell_type": "markdown",
   "metadata": {},
   "source": [
    "### Exercise 10-8: Cats and Dogs\n",
    "This exercise is for practice error-trapping when reading the contents of a file. The first output shows the results when both .txt files were in the right directory. The second output shows what happened when I moved dogs.txt out of this directory."
   ]
  },
  {
   "cell_type": "code",
   "execution_count": 16,
   "metadata": {},
   "outputs": [
    {
     "name": "stdout",
     "output_type": "stream",
     "text": [
      "\n",
      "Reading file: cats.txt\n",
      "Fiona\n",
      "Locksley\n",
      "Girl Cat\n",
      "\n",
      "Reading file: dogs.txt\n",
      "Lady\n",
      "Kula\n",
      "Mollie\n"
     ]
    }
   ],
   "source": [
    "filenames = ['cats.txt', 'dogs.txt']\n",
    "\n",
    "for filename in filenames:\n",
    "    print(\"\\nReading file: \" + filename)\n",
    "    try:\n",
    "        with open(filename) as file_object:\n",
    "            contents = file_object.read()\n",
    "            print(contents)\n",
    "    except FileNotFoundError:\n",
    "        print(\" Sorry, I can't find that file.\")"
   ]
  },
  {
   "cell_type": "code",
   "execution_count": 17,
   "metadata": {},
   "outputs": [
    {
     "name": "stdout",
     "output_type": "stream",
     "text": [
      "\n",
      "Reading file: cats.txt\n",
      "Fiona\n",
      "Locksley\n",
      "Girl Cat\n",
      "\n",
      "Reading file: dogs.txt\n",
      " Sorry, I can't find that file.\n"
     ]
    }
   ],
   "source": [
    "filenames = ['cats.txt', 'dogs.txt']\n",
    "\n",
    "for filename in filenames:\n",
    "    print(\"\\nReading file: \" + filename)\n",
    "    try:\n",
    "        with open(filename) as file_object:\n",
    "            contents = file_object.read()\n",
    "            print(contents)\n",
    "    except FileNotFoundError:\n",
    "        print(\" Sorry, I can't find that file.\")"
   ]
  },
  {
   "cell_type": "markdown",
   "metadata": {},
   "source": [
    "### Exercise 10-9: Silent Cats and Dogs\n",
    "This exercise is similar to the one above, except that the code fails silently rather than printing a message to the user. As above, the first output shows both files available in the directory. In the second output I removed dogs.txt."
   ]
  },
  {
   "cell_type": "code",
   "execution_count": 21,
   "metadata": {},
   "outputs": [
    {
     "name": "stdout",
     "output_type": "stream",
     "text": [
      "\n",
      "Reading file: cats.txt\n",
      "Fiona\n",
      "Locksley\n",
      "Girl Cat\n",
      "\n",
      "Reading file: dogs.txt\n",
      "Lady\n",
      "Kula\n",
      "Mollie\n"
     ]
    }
   ],
   "source": [
    "filenames = ['cats.txt', 'dogs.txt']\n",
    "\n",
    "for filename in filenames:\n",
    "    try:\n",
    "        with open(filename) as file_object:\n",
    "            contents = file_object.read()\n",
    "            print(\"\\nReading file: \" + filename)\n",
    "            print(contents)\n",
    "    except FileNotFoundError:\n",
    "        pass"
   ]
  },
  {
   "cell_type": "code",
   "execution_count": 20,
   "metadata": {},
   "outputs": [
    {
     "name": "stdout",
     "output_type": "stream",
     "text": [
      "\n",
      "Reading file: cats.txt\n",
      "Fiona\n",
      "Locksley\n",
      "Girl Cat\n"
     ]
    }
   ],
   "source": [
    "filenames = ['cats.txt', 'dogs.txt']\n",
    "\n",
    "for filename in filenames:\n",
    "    try:\n",
    "        with open(filename) as file_object:\n",
    "            contents = file_object.read()\n",
    "            print(\"\\nReading file: \" + filename)\n",
    "            print(contents)\n",
    "    except FileNotFoundError:\n",
    "        pass"
   ]
  },
  {
   "cell_type": "markdown",
   "metadata": {},
   "source": [
    "### Exercise 10-10: Common Words\n",
    "This exercise practices reading a .txt file and counting the number of times the word \"the\" appears. No matter what I did, this would not let me use the .lower() function, so I don't know if this is accurate. I don't know why it wouldn't let me, either! The error code I received was AttributeError: 'list' object has no attribute 'lower,' and I don't know what that means."
   ]
  },
  {
   "cell_type": "code",
   "execution_count": 34,
   "metadata": {},
   "outputs": [
    {
     "ename": "AttributeError",
     "evalue": "'list' object has no attribute 'lower'",
     "output_type": "error",
     "traceback": [
      "\u001b[0;31m---------------------------------------------------------------------------\u001b[0m",
      "\u001b[0;31mAttributeError\u001b[0m                            Traceback (most recent call last)",
      "\u001b[0;32m<ipython-input-34-882bc2986174>\u001b[0m in \u001b[0;36m<module>\u001b[0;34m()\u001b[0m\n\u001b[1;32m      5\u001b[0m     \u001b[0;31m# Count the number of times the word 'the' appears in the text.\u001b[0m\u001b[0;34m\u001b[0m\u001b[0;34m\u001b[0m\u001b[0m\n\u001b[1;32m      6\u001b[0m     \u001b[0mwords\u001b[0m \u001b[0;34m=\u001b[0m \u001b[0mcontents\u001b[0m\u001b[0;34m.\u001b[0m\u001b[0msplit\u001b[0m\u001b[0;34m(\u001b[0m\u001b[0;34m)\u001b[0m\u001b[0;34m\u001b[0m\u001b[0m\n\u001b[0;32m----> 7\u001b[0;31m     \u001b[0mprint\u001b[0m\u001b[0;34m(\u001b[0m\u001b[0mwords\u001b[0m\u001b[0;34m.\u001b[0m\u001b[0mlower\u001b[0m\u001b[0;34m(\u001b[0m\u001b[0;34m)\u001b[0m\u001b[0;34m.\u001b[0m\u001b[0mcount\u001b[0m\u001b[0;34m(\u001b[0m\u001b[0;34m'the'\u001b[0m\u001b[0;34m)\u001b[0m\u001b[0;34m)\u001b[0m\u001b[0;34m\u001b[0m\u001b[0m\n\u001b[0m",
      "\u001b[0;31mAttributeError\u001b[0m: 'list' object has no attribute 'lower'"
     ]
    }
   ],
   "source": [
    "filename = 'Romeo and Juliet.txt'\n",
    "\n",
    "with open(filename) as file_object:\n",
    "    contents = file_object.read()\n",
    "    # Count the number of times the word 'the' appears in the text.\n",
    "    words = contents.split()\n",
    "    print(words.lower().count('the'))"
   ]
  },
  {
   "cell_type": "code",
   "execution_count": 29,
   "metadata": {},
   "outputs": [
    {
     "name": "stdout",
     "output_type": "stream",
     "text": [
      "30\n"
     ]
    }
   ],
   "source": [
    "filename = 'Romeo and Juliet.txt'\n",
    "\n",
    "with open(filename) as file_object:\n",
    "    contents = file_object.read()\n",
    "    # Count the number of times the word 'the' appears in the text.\n",
    "    words = contents.split()\n",
    "    print(words.count('the'))"
   ]
  },
  {
   "cell_type": "markdown",
   "metadata": {},
   "source": [
    "### Exercise 10-11: Favorite Number\n",
    "This exercise practices using the __json.dump()__ function to save and read user input."
   ]
  },
  {
   "cell_type": "code",
   "execution_count": 35,
   "metadata": {},
   "outputs": [
    {
     "name": "stdout",
     "output_type": "stream",
     "text": [
      "What is your favorite number? 42\n",
      "I'll remember your favorite number!\n"
     ]
    }
   ],
   "source": [
    "import json\n",
    "\n",
    "favorite_number = input(\"What is your favorite number? \")\n",
    "filename = 'favorite_number.json'\n",
    "with open(filename, 'w') as file_object:\n",
    "    json.dump(favorite_number, file_object)\n",
    "    print(\"I'll remember your favorite number!\")"
   ]
  },
  {
   "cell_type": "code",
   "execution_count": 36,
   "metadata": {},
   "outputs": [
    {
     "name": "stdout",
     "output_type": "stream",
     "text": [
      "I know your favorite number! It's 42.\n"
     ]
    }
   ],
   "source": [
    "import json\n",
    "\n",
    "filename = 'favorite_number.json'\n",
    "\n",
    "with open(filename) as f_obj:\n",
    "    favorite_number = json.load(f_obj)\n",
    "    print(\"I know your favorite number! It's \" + str(favorite_number) + \".\")"
   ]
  },
  {
   "cell_type": "markdown",
   "metadata": {},
   "source": [
    "### Exercise 10-12: Favorite Number Remembered\n",
    "This exercise combines the two programs written above into one program."
   ]
  },
  {
   "cell_type": "code",
   "execution_count": 38,
   "metadata": {},
   "outputs": [
    {
     "name": "stdout",
     "output_type": "stream",
     "text": [
      "What is your favorite number? 42\n",
      "I'll remember your favorite number!\n"
     ]
    }
   ],
   "source": [
    "import json\n",
    "\n",
    "# Load the user's favorite number, if it has been stored previously.\n",
    "# Otherwise, prompt for the user's favorite number and store it.\n",
    "filename = 'favorite_number.json'\n",
    "try:\n",
    "    with open(filename) as f_obj:\n",
    "        favorite_number = json.load(f_obj)\n",
    "except FileNotFoundError:\n",
    "    favorite_number = input(\"What is your favorite number? \")\n",
    "    with open (filename, 'w') as f_obj:\n",
    "        json.dump(favorite_number, f_obj)\n",
    "        print(\"I'll remember your favorite number!\")\n",
    "else:\n",
    "    print(\"I know your favorite number! It's \" + str(favorite_number) + \".\")"
   ]
  },
  {
   "cell_type": "code",
   "execution_count": 39,
   "metadata": {},
   "outputs": [
    {
     "name": "stdout",
     "output_type": "stream",
     "text": [
      "I know your favorite number! It's 42.\n"
     ]
    }
   ],
   "source": [
    "import json\n",
    "\n",
    "# Load the user's favorite number, if it has been stored previously.\n",
    "# Otherwise, prompt for the user's favorite number and store it.\n",
    "filename = 'favorite_number.json'\n",
    "try:\n",
    "    with open(filename) as f_obj:\n",
    "        favorite_number = json.load(f_obj)\n",
    "except FileNotFoundError:\n",
    "    favorite_number = input(\"What is your favorite number? \")\n",
    "    with open (filename, 'w') as f_obj:\n",
    "        json.dump(favorite_number, f_obj)\n",
    "        print(\"I'll remember your favorite number!\")\n",
    "else:\n",
    "    print(\"I know your favorite number! It's \" + str(favorite_number) + \".\")"
   ]
  },
  {
   "cell_type": "markdown",
   "metadata": {},
   "source": [
    "### Exercise 10-13: Verify User\n",
    "This exercise is for practice with refactoring blocks of code up into functions that have specific jobs, as well as adding an additional function called __get_new_username()__ to the book's _remember_me.py_ program."
   ]
  },
  {
   "cell_type": "code",
   "execution_count": 40,
   "metadata": {},
   "outputs": [
    {
     "name": "stdout",
     "output_type": "stream",
     "text": [
      "What is your name? Dana\n",
      "We'll remember you when you come back\n"
     ]
    }
   ],
   "source": [
    "import json\n",
    "\n",
    "def get_stored_username():\n",
    "    \"\"\"Get stored username if available.\"\"\"\n",
    "    filename = 'username.json'\n",
    "    try:\n",
    "        with open(filename) as f_obj:\n",
    "            username = json.load(f_obj)\n",
    "    except FileNotFoundError:\n",
    "        return None\n",
    "    else:\n",
    "        return username\n",
    "\n",
    "def get_new_username():\n",
    "    \"\"\"Prompt for a new username.\"\"\"\n",
    "    username = input(\"What is your name? \")\n",
    "    filename = 'username.json'\n",
    "    with open (filename, 'w') as f_obj:\n",
    "        json.dump(username, f_obj)\n",
    "    return username\n",
    "\n",
    "def greet_user():\n",
    "    \"\"\"Greet the user by name.\"\"\"\n",
    "    username = get_stored_username()\n",
    "    if username:\n",
    "        correct = input(\"Are you \" + username + \"? (y/n) \")\n",
    "        if correct == 'y':\n",
    "            print(\"Welcome back, \" + username + \"!\")     \n",
    "    else: \n",
    "        username = get_new_username()\n",
    "        print(\"We'll remember you when you come back\")\n",
    "\n",
    "greet_user()"
   ]
  },
  {
   "cell_type": "code",
   "execution_count": 41,
   "metadata": {},
   "outputs": [
    {
     "name": "stdout",
     "output_type": "stream",
     "text": [
      "Are you Dana? (y/n) y\n",
      "Welcome back, Dana!\n"
     ]
    }
   ],
   "source": [
    "import json\n",
    "\n",
    "def get_stored_username():\n",
    "    \"\"\"Get stored username if available.\"\"\"\n",
    "    filename = 'username.json'\n",
    "    try:\n",
    "        with open(filename) as f_obj:\n",
    "            username = json.load(f_obj)\n",
    "    except FileNotFoundError:\n",
    "        return None\n",
    "    else:\n",
    "        return username\n",
    "\n",
    "def get_new_username():\n",
    "    \"\"\"Prompt for a new username.\"\"\"\n",
    "    username = input(\"What is your name? \")\n",
    "    filename = 'username.json'\n",
    "    with open (filename, 'w') as f_obj:\n",
    "        json.dump(username, f_obj)\n",
    "    return username\n",
    "\n",
    "def greet_user():\n",
    "    \"\"\"Greet the user by name.\"\"\"\n",
    "    username = get_stored_username()\n",
    "    if username:\n",
    "        correct = input(\"Are you \" + username + \"? (y/n) \")\n",
    "        if correct == 'y':\n",
    "            print(\"Welcome back, \" + username + \"!\")     \n",
    "    else: \n",
    "        username = get_new_username()\n",
    "        print(\"We'll remember you when you come back\")\n",
    "\n",
    "greet_user()"
   ]
  }
 ],
 "metadata": {
  "kernelspec": {
   "display_name": "Python 3",
   "language": "python",
   "name": "python3"
  },
  "language_info": {
   "codemirror_mode": {
    "name": "ipython",
    "version": 3
   },
   "file_extension": ".py",
   "mimetype": "text/x-python",
   "name": "python",
   "nbconvert_exporter": "python",
   "pygments_lexer": "ipython3",
   "version": "3.6.5"
  }
 },
 "nbformat": 4,
 "nbformat_minor": 2
}
