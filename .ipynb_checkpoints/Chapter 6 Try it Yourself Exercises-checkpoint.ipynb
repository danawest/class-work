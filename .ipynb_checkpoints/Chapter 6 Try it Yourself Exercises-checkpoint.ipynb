{
 "cells": [
  {
   "cell_type": "markdown",
   "metadata": {},
   "source": [
    "## Chapter 6\n",
    "This notebook includes my work on the Try it Yourself exercises for chapter 6."
   ]
  },
  {
   "cell_type": "markdown",
   "metadata": {},
   "source": [
    "### Exercise 6-1: Person\n",
    "This exercise asks me to practice creating a dictionary about one person. No difficulties."
   ]
  },
  {
   "cell_type": "code",
   "execution_count": 1,
   "metadata": {},
   "outputs": [
    {
     "name": "stdout",
     "output_type": "stream",
     "text": [
      "{'first_name': 'jake', 'last_name': 'rodkin', 'city': 'seattle', 'age': 37}\n"
     ]
    }
   ],
   "source": [
    "person = {'first_name': 'jake', 'last_name': 'rodkin', \n",
    "         'city': 'seattle', 'age': 37}\n",
    "print(person)"
   ]
  },
  {
   "cell_type": "code",
   "execution_count": 2,
   "metadata": {},
   "outputs": [
    {
     "name": "stdout",
     "output_type": "stream",
     "text": [
      "jake\n"
     ]
    }
   ],
   "source": [
    "print(person['first_name'])"
   ]
  },
  {
   "cell_type": "code",
   "execution_count": 3,
   "metadata": {},
   "outputs": [
    {
     "name": "stdout",
     "output_type": "stream",
     "text": [
      "rodkin\n"
     ]
    }
   ],
   "source": [
    "print(person['last_name'])"
   ]
  },
  {
   "cell_type": "code",
   "execution_count": 4,
   "metadata": {},
   "outputs": [
    {
     "name": "stdout",
     "output_type": "stream",
     "text": [
      "seattle\n"
     ]
    }
   ],
   "source": [
    "print(person['city'])"
   ]
  },
  {
   "cell_type": "code",
   "execution_count": 5,
   "metadata": {},
   "outputs": [
    {
     "name": "stdout",
     "output_type": "stream",
     "text": [
      "37\n"
     ]
    }
   ],
   "source": [
    "print(person['age'])"
   ]
  },
  {
   "cell_type": "markdown",
   "metadata": {},
   "source": [
    "### Exercise 6-2: Favorite Numbers\n",
    "This exercise asks me to create a dictionary of friends' favorite numbers. I ran into some difficulty the first time I tried to print. I kept messing up the syntax because I wasn't exactly sure where to put _str_( ), but eventually I figured it out."
   ]
  },
  {
   "cell_type": "code",
   "execution_count": 20,
   "metadata": {},
   "outputs": [
    {
     "name": "stdout",
     "output_type": "stream",
     "text": [
      "Jake's favorite number is 112.\n"
     ]
    }
   ],
   "source": [
    "favorite_numbers = {\n",
    "    'jake': 112,\n",
    "    'colleen': 30,\n",
    "    'dana': 42,\n",
    "    'jared': 13,\n",
    "    'emily': 3,\n",
    "}\n",
    "    \n",
    "print(\"Jake's favorite number is \" + str(favorite_numbers['jake']) + \".\")"
   ]
  },
  {
   "cell_type": "code",
   "execution_count": 21,
   "metadata": {},
   "outputs": [
    {
     "name": "stdout",
     "output_type": "stream",
     "text": [
      "Colleen's favorite number is 30.\n"
     ]
    }
   ],
   "source": [
    "print(\"Colleen's favorite number is \" + str(favorite_numbers['colleen']) + \".\")"
   ]
  },
  {
   "cell_type": "code",
   "execution_count": 22,
   "metadata": {},
   "outputs": [
    {
     "name": "stdout",
     "output_type": "stream",
     "text": [
      "Dana's favorite number is 42.\n",
      "Jared's favorite number is 13.\n",
      "Emily's favorite number is 3.\n"
     ]
    }
   ],
   "source": [
    "print(\"Dana's favorite number is \" + str(favorite_numbers['dana']) + \".\")\n",
    "print(\"Jared's favorite number is \" + str(favorite_numbers['jared']) + \".\")\n",
    "print(\"Emily's favorite number is \" + str(favorite_numbers['emily']) + \".\")"
   ]
  },
  {
   "cell_type": "markdown",
   "metadata": {},
   "source": [
    "### Exercise 6-3: Glossary\n",
    "This exercise is for creating a neatly printed glossary of programming terminology. I don't think I did what the book expected, since I wrote this as a loop rather than printing each _key, value_ pair separately. But, it worked, so I think it's fine."
   ]
  },
  {
   "cell_type": "code",
   "execution_count": 27,
   "metadata": {},
   "outputs": [
    {
     "name": "stdout",
     "output_type": "stream",
     "text": [
      "list: a collection of items in a particular order\n",
      "float: any number with a decimal point\n",
      "looping: running through all items in a list, performing the same task with each one\n",
      "input: information the program prompts the user to enter\n",
      "string: a series of characters\n"
     ]
    }
   ],
   "source": [
    "glossary = {\n",
    "    'list': 'a collection of items in a particular order',\n",
    "    'float': 'any number with a decimal point',\n",
    "    'looping': 'running through all items in a list, performing the same task with each one',\n",
    "    'input': 'information the program prompts the user to enter',\n",
    "    'string': 'a series of characters'\n",
    "}\n",
    "\n",
    "for word, definition in glossary.items():\n",
    "    print(word + \": \" + definition)"
   ]
  },
  {
   "cell_type": "markdown",
   "metadata": {},
   "source": [
    "### Exercise 6-4: Glossary 2\n",
    "This exercise is to do what I accidentally already did above, plus to add five more terms to the glossary. No difficulties."
   ]
  },
  {
   "cell_type": "code",
   "execution_count": 28,
   "metadata": {},
   "outputs": [
    {
     "name": "stdout",
     "output_type": "stream",
     "text": [
      "list: a collection of items in a particular order\n",
      "float: any number with a decimal point\n",
      "looping: running through all items in a list, performing the same task with each one\n",
      "input: information the program prompts the user to enter\n",
      "string: a series of characters\n"
     ]
    }
   ],
   "source": [
    "glossary = {\n",
    "    'list': 'a collection of items in a particular order',\n",
    "    'float': 'any number with a decimal point',\n",
    "    'looping': 'running through all items in a list, performing the same task with each one',\n",
    "    'input': 'information the program prompts the user to enter',\n",
    "    'string': 'a series of characters'\n",
    "}\n",
    "\n",
    "for w, d in glossary.items():\n",
    "    print(w + \": \" + d)"
   ]
  },
  {
   "cell_type": "code",
   "execution_count": 40,
   "metadata": {},
   "outputs": [
    {
     "name": "stdout",
     "output_type": "stream",
     "text": [
      "argument: a value passed to a function when calling the function\n",
      "dictionary: a collection of stored, related information\n",
      "float: any number with a decimal point\n",
      "if statements: allow you to examine the current state of a program and respond appropriately\n",
      "input: information the program prompts the user to enter\n",
      "list: a collection of items in a particular order\n",
      "looping: running through all items in a list, performing the same task with each one\n",
      "print(): a function to display output of a program\n",
      "slice: a portion of a list\n",
      "string: a series of characters\n"
     ]
    }
   ],
   "source": [
    "glossary['if statements'] = 'allow you to examine the current state of a program and respond appropriately'\n",
    "glossary['argument'] = 'a value passed to a function when calling the function'\n",
    "glossary['dictionary'] = 'a collection of stored, related information'\n",
    "glossary['print()'] = 'a function to display output of a program'\n",
    "glossary['slice'] = 'a portion of a list'\n",
    "\n",
    "for w, d in sorted(glossary.items()):\n",
    "    print(w + \": \" + d)"
   ]
  },
  {
   "cell_type": "markdown",
   "metadata": {},
   "source": [
    "### Exercise 6-5: Rivers\n",
    "This exercise is more practice with looping through dictionaries. No difficulties."
   ]
  },
  {
   "cell_type": "code",
   "execution_count": 32,
   "metadata": {},
   "outputs": [
    {
     "name": "stdout",
     "output_type": "stream",
     "text": [
      "The Amazon runs through Brazil.\n",
      "The Euphrates runs through Iraq.\n",
      "The Seine runs through France.\n"
     ]
    }
   ],
   "source": [
    "rivers = {\n",
    "    'amazon': 'brazil',\n",
    "    'euphrates': 'iraq',\n",
    "    'seine': 'france',\n",
    "}\n",
    "\n",
    "for r, c in rivers.items():\n",
    "    print(\"The \" + r.title() + \" runs through \" + c.title() + \".\")"
   ]
  },
  {
   "cell_type": "code",
   "execution_count": 36,
   "metadata": {},
   "outputs": [
    {
     "name": "stdout",
     "output_type": "stream",
     "text": [
      "The following rivers have been mentioned:\n",
      "Amazon\n",
      "Euphrates\n",
      "Seine\n"
     ]
    }
   ],
   "source": [
    "print(\"The following rivers have been mentioned:\")\n",
    "for r in rivers.keys():\n",
    "    print(r.title())"
   ]
  },
  {
   "cell_type": "code",
   "execution_count": 35,
   "metadata": {},
   "outputs": [
    {
     "name": "stdout",
     "output_type": "stream",
     "text": [
      "These countries have been mentioned:\n",
      "Brazil\n",
      "Iraq\n",
      "France\n"
     ]
    }
   ],
   "source": [
    "print(\"These countries have been mentioned:\")\n",
    "for c in rivers.values():\n",
    "    print(c.title())"
   ]
  },
  {
   "cell_type": "markdown",
   "metadata": {},
   "source": [
    "### Exercise 6-6: Polling\n",
    "This exercise asks me to practice using if-else statements to loop through a dictionary and print a reminder to take the poll to people who are not included in the dictionary. It's basically the inverse of the example shown in the book. The only mistake I made was forgetting to specify favorite_languages.keys, but I fixed it and it worked."
   ]
  },
  {
   "cell_type": "code",
   "execution_count": 39,
   "metadata": {},
   "outputs": [
    {
     "name": "stdout",
     "output_type": "stream",
     "text": [
      "Don't forget to take the poll, Erin!\n",
      "Thank you for taking the poll, Sarah!\n",
      "Don't forget to take the poll, John!\n",
      "Thank you for taking the poll, Phil!\n"
     ]
    }
   ],
   "source": [
    "favorite_languages = {\n",
    "    'jen': 'python',\n",
    "    'sarah': 'c',\n",
    "    'edward': 'ruby',\n",
    "    'phil': 'python',\n",
    "}\n",
    "friends = ['erin', 'sarah', 'john', 'phil']\n",
    "for friend in friends:\n",
    "    if friend in favorite_languages.keys():\n",
    "        print(\"Thank you for taking the poll, \" + friend.title() + \"!\")\n",
    "    else:\n",
    "        print(\"Don't forget to take the poll, \" + friend.title() + \"!\")"
   ]
  },
  {
   "cell_type": "markdown",
   "metadata": {},
   "source": [
    "### Exercise 6-7: People\n",
    "This exercise is about practicing nesting a dictionary in a list. No difficulties."
   ]
  },
  {
   "cell_type": "code",
   "execution_count": 7,
   "metadata": {},
   "outputs": [
    {
     "name": "stdout",
     "output_type": "stream",
     "text": [
      "{'first_name': 'jake', 'last_name': 'rodkin', 'age': 37, 'city': 'seattle'}\n",
      "{'first_name': 'dana', 'last_name': 'west', 'age': 36, 'city': 'seattle'}\n",
      "{'first_name': 'lauren', 'last_name': 'west', 'age': 35, 'city': 'santa rosa'}\n"
     ]
    }
   ],
   "source": [
    "person_0 = {\n",
    "    'first_name': 'jake',\n",
    "    'last_name': 'rodkin',\n",
    "    'age': 37,\n",
    "    'city' : 'seattle',\n",
    "}\n",
    "\n",
    "person_1 = {\n",
    "    'first_name': 'dana',\n",
    "    'last_name': 'west',\n",
    "    'age': 36,\n",
    "    'city': 'seattle',\n",
    "}\n",
    "\n",
    "person_2 = {\n",
    "    'first_name': 'lauren',\n",
    "    'last_name': 'west',\n",
    "    'age': 35,\n",
    "    'city': 'santa rosa',\n",
    "}\n",
    "\n",
    "people = [person_0, person_1, person_2]\n",
    "for person in people:\n",
    "    print(person)\n"
   ]
  },
  {
   "cell_type": "markdown",
   "metadata": {},
   "source": [
    "### Exercise 6-8: Pets\n",
    "This exercise is an exact duplicate of the one above, except the dictionaries are named differently. Based on the book's examples with aliens, I think this worked correctly? Although it seems like I should be able to see the names of the pets in my output, and I'm not sure how to do that."
   ]
  },
  {
   "cell_type": "code",
   "execution_count": 12,
   "metadata": {},
   "outputs": [
    {
     "name": "stdout",
     "output_type": "stream",
     "text": [
      "{'breed': 'cat', 'owner': 'dana', 'color': 'grey and white'}\n",
      "{'breed': 'cat', 'owner': 'dana', 'color': 'black and white'}\n",
      "{'breed': 'corgi', 'owner': 'jess', 'color': 'blonde'}\n",
      "{'breed': 'retriever', 'owner': 'susan', 'color': 'golden'}\n"
     ]
    }
   ],
   "source": [
    "fiona = {\n",
    "    'breed': 'cat',\n",
    "    'owner': 'dana',\n",
    "    'color': 'grey and white',\n",
    "}\n",
    "\n",
    "locksley = {\n",
    "    'breed': 'cat',\n",
    "    'owner': 'dana',\n",
    "    'color': 'black and white',\n",
    "}\n",
    "\n",
    "leela = {\n",
    "    'breed': 'corgi',\n",
    "    'owner': 'jess',\n",
    "    'color': 'blonde',\n",
    "}\n",
    "\n",
    "kula = {\n",
    "    'breed': 'retriever',\n",
    "    'owner': 'susan',\n",
    "    'color': 'golden',\n",
    "}\n",
    "\n",
    "pets = [fiona, locksley, leela, kula]\n",
    "for pet in pets:\n",
    "    print(pet)"
   ]
  },
  {
   "cell_type": "markdown",
   "metadata": {},
   "source": [
    "### Exercise 6-9: Favorite Places\n",
    "This exercise practices nesting lists within dictionaries as values. No difficulties."
   ]
  },
  {
   "cell_type": "code",
   "execution_count": 14,
   "metadata": {},
   "outputs": [
    {
     "name": "stdout",
     "output_type": "stream",
     "text": [
      "\n",
      "Dana's favorite places are:\n",
      "\tKauai\n",
      "\tRome\n",
      "\tMontana\n",
      "\n",
      "Jake's favorite places are:\n",
      "\tLondon\n",
      "\tSan Francisco\n",
      "\tPortland\n",
      "\n",
      "Colleen's favorite places are:\n",
      "\tParis\n",
      "\tBudapest\n",
      "\tBanff\n"
     ]
    }
   ],
   "source": [
    "favorite_places = {\n",
    "    'dana': ['kauai', 'rome', 'montana'],\n",
    "    'jake': ['london', 'san francisco', 'portland'],\n",
    "    'colleen': ['paris', 'budapest', 'banff'],\n",
    "}\n",
    "\n",
    "for name, places in favorite_places.items():\n",
    "    print(\"\\n\" + name.title() + \"'s favorite places are:\")\n",
    "    for place in places:\n",
    "        print(\"\\t\" + place.title())"
   ]
  },
  {
   "cell_type": "markdown",
   "metadata": {},
   "source": [
    "### Exercise 6-10: Favorite numbers\n",
    "More of the same as above, except for the added _len( )_ function, which I admit I had to look up in the index in order to remember how to call it. "
   ]
  },
  {
   "cell_type": "code",
   "execution_count": 20,
   "metadata": {},
   "outputs": [
    {
     "name": "stdout",
     "output_type": "stream",
     "text": [
      "\n",
      "Jake's favorite numbers are:\n",
      "\t112\n",
      "\t22\n",
      "\n",
      "Colleen's favorite number is:\n",
      "\t30\n",
      "\n",
      "Dana's favorite number is:\n",
      "\t42\n",
      "\n",
      "Jared's favorite numbers are:\n",
      "\t13\n",
      "\t8\n",
      "\n",
      "Emily's favorite number is:\n",
      "\t3\n"
     ]
    }
   ],
   "source": [
    "favorite_numbers = {\n",
    "    'jake': [112, 22],\n",
    "    'colleen': [30],\n",
    "    'dana': [42],\n",
    "    'jared': [13, 8],\n",
    "    'emily': [3],\n",
    "}\n",
    "\n",
    "for name, numbers in favorite_numbers.items():\n",
    "    if len(numbers) > 1:\n",
    "        print(\"\\n\" + name.title() + \"'s favorite numbers are:\")\n",
    "        for number in numbers:\n",
    "            print(\"\\t\" + str(number))\n",
    "    else:\n",
    "        print(\"\\n\" + name.title() + \"'s favorite number is:\")\n",
    "        for number in numbers:\n",
    "            print(\"\\t\" + str(number))"
   ]
  },
  {
   "cell_type": "markdown",
   "metadata": {},
   "source": [
    "### Exercise 6-11: Cities\n",
    "This exercise is practicing nesting dictionaries within other dictionaries, then looping through them to print the information about each city. I wasn't sure if what I was trying would work, and it did, although I'm not sure it's the simplest way to achieve the output I got."
   ]
  },
  {
   "cell_type": "code",
   "execution_count": 26,
   "metadata": {},
   "outputs": [
    {
     "name": "stdout",
     "output_type": "stream",
     "text": [
      "\n",
      "Seattle, located in the United States, has a population of 725,000 and is home to the University of Washington.\n",
      "\n",
      "London, located in the United Kingdom, has a population of 8 million and is home to the London School of Economics.\n",
      "\n",
      "Dublin, located in the Republic Of Ireland, has a population of 530,000 and is home to Trinity College.\n"
     ]
    }
   ],
   "source": [
    "cities = {\n",
    "    'seattle': {\n",
    "        'country': 'united states',\n",
    "        'population': '725,000',\n",
    "        'fact': 'home to the University of Washington',\n",
    "    },\n",
    "    \n",
    "    'london': {\n",
    "        'country': 'united kingdom',\n",
    "        'population': '8 million',\n",
    "        'fact': 'home to the London School of Economics',\n",
    "    },\n",
    "    \n",
    "    'dublin': {\n",
    "        'country': 'republic of ireland',\n",
    "        'population': '530,000',\n",
    "        'fact': 'home to Trinity College',\n",
    "    },\n",
    "}\n",
    "\n",
    "for city_name, city_info in cities.items():\n",
    "    print(\"\\n\" + city_name.title() + \", located in the \" + city_info['country'].title() + \n",
    "          \", has a population of \" + city_info['population'] + \" and is \" + city_info['fact'] + \".\")\n",
    "    "
   ]
  },
  {
   "cell_type": "markdown",
   "metadata": {},
   "source": [
    "### Exercise 6-12: Extensions\n",
    "This exercise asks me to expand on one of the example programs from chapter 6. First I replicated the book's example of adding aliens to an empty list, then changing the values of the aliens in that list, since none of the prior exercises involved this. "
   ]
  },
  {
   "cell_type": "code",
   "execution_count": 29,
   "metadata": {},
   "outputs": [
    {
     "name": "stdout",
     "output_type": "stream",
     "text": [
      "{'color': 'green', 'points': 5, 'speed': 'slow'}\n",
      "{'color': 'green', 'points': 5, 'speed': 'slow'}\n",
      "{'color': 'green', 'points': 5, 'speed': 'slow'}\n",
      "{'color': 'green', 'points': 5, 'speed': 'slow'}\n",
      "{'color': 'green', 'points': 5, 'speed': 'slow'}\n",
      "...\n",
      "Total number of aliens: 30\n"
     ]
    }
   ],
   "source": [
    "aliens = []\n",
    "\n",
    "for alien_number in range(30):\n",
    "        new_alien = {'color': 'green', 'points': 5, 'speed': 'slow'}\n",
    "        aliens.append(new_alien)\n",
    "\n",
    "for alien in aliens[:5]:\n",
    "    print(alien)\n",
    "print(\"...\")\n",
    "\n",
    "print(\"Total number of aliens: \" + str(len(aliens)))"
   ]
  },
  {
   "cell_type": "code",
   "execution_count": 30,
   "metadata": {},
   "outputs": [
    {
     "name": "stdout",
     "output_type": "stream",
     "text": [
      "{'color': 'yellow', 'points': 10, 'speed': 'medium'}\n",
      "{'color': 'yellow', 'points': 10, 'speed': 'medium'}\n",
      "{'color': 'yellow', 'points': 10, 'speed': 'medium'}\n",
      "{'color': 'green', 'points': 5, 'speed': 'slow'}\n",
      "{'color': 'green', 'points': 5, 'speed': 'slow'}\n"
     ]
    }
   ],
   "source": [
    "for alien in aliens[0:3]:\n",
    "    if alien['color'] == 'green':\n",
    "        alien['color'] = 'yellow'\n",
    "        alien['speed'] = 'medium'\n",
    "        alien['points'] = 10\n",
    "\n",
    "for alien in aliens[0:5]:\n",
    "    print(alien)\n",
    "    "
   ]
  },
  {
   "cell_type": "code",
   "execution_count": 32,
   "metadata": {},
   "outputs": [
    {
     "name": "stdout",
     "output_type": "stream",
     "text": [
      "{'color': 'red', 'points': 20, 'speed': 'fast'}\n",
      "{'color': 'red', 'points': 20, 'speed': 'fast'}\n",
      "{'color': 'red', 'points': 20, 'speed': 'fast'}\n",
      "{'color': 'yellow', 'points': 10, 'speed': 'medium'}\n",
      "{'color': 'yellow', 'points': 10, 'speed': 'medium'}\n",
      "{'color': 'yellow', 'points': 10, 'speed': 'medium'}\n",
      "{'color': 'yellow', 'points': 10, 'speed': 'medium'}\n",
      "{'color': 'yellow', 'points': 10, 'speed': 'medium'}\n",
      "{'color': 'yellow', 'points': 10, 'speed': 'medium'}\n",
      "{'color': 'yellow', 'points': 10, 'speed': 'medium'}\n"
     ]
    }
   ],
   "source": [
    "for alien in aliens[0:10]:\n",
    "    if alien['color'] == 'green':\n",
    "        alien['color'] = 'yellow'\n",
    "        alien['speed'] = 'medium'\n",
    "        alien['points'] = 10\n",
    "    elif alien['color'] == 'yellow':\n",
    "        alien['color'] = 'red'\n",
    "        alien['speed'] = 'fast'\n",
    "        alien['points'] = 20\n",
    "\n",
    "for alien in aliens[0:10]:\n",
    "    print(alien)"
   ]
  },
  {
   "cell_type": "markdown",
   "metadata": {},
   "source": [
    "#### Here I will attempt a different version of the \"aliens\" example, still practicing adding to an empty list, then changing the values within the dictionary.\n",
    "I decided to pretend I was making a video game or animated movie, and to use this to cast \"extras.\" "
   ]
  },
  {
   "cell_type": "code",
   "execution_count": 33,
   "metadata": {},
   "outputs": [
    {
     "name": "stdout",
     "output_type": "stream",
     "text": [
      "{'height': 'tall', 'build': 'athletic', 'hair color': 'dark'}\n",
      "{'height': 'tall', 'build': 'athletic', 'hair color': 'dark'}\n",
      "{'height': 'tall', 'build': 'athletic', 'hair color': 'dark'}\n",
      "{'height': 'tall', 'build': 'athletic', 'hair color': 'dark'}\n",
      "{'height': 'tall', 'build': 'athletic', 'hair color': 'dark'}\n",
      "Total number of extras: 10\n"
     ]
    }
   ],
   "source": [
    "extras = []\n",
    "\n",
    "for extra_number in range(10):\n",
    "    new_extra = {'height': 'tall', 'build': 'athletic', 'hair color': 'dark'}\n",
    "    extras.append(new_extra)\n",
    "for extra in extras[:5]:\n",
    "    print(extra)\n",
    "\n",
    "print(\"Total number of extras: \" + str(len(extras)))"
   ]
  },
  {
   "cell_type": "code",
   "execution_count": 48,
   "metadata": {},
   "outputs": [
    {
     "name": "stdout",
     "output_type": "stream",
     "text": [
      "{'height': 'short', 'build': 'stocky', 'hair color': 'grey'}\n",
      "{'height': 'short', 'build': 'stocky', 'hair color': 'grey'}\n",
      "{'height': 'short', 'build': 'stocky', 'hair color': 'grey'}\n",
      "{'height': 'tall', 'build': 'athletic', 'hair color': 'dark'}\n",
      "{'height': 'short', 'build': 'stocky', 'hair color': 'grey'}\n",
      "{'height': 'short', 'build': 'stocky', 'hair color': 'grey'}\n",
      "{'height': 'tall', 'build': 'athletic', 'hair color': 'dark'}\n",
      "{'height': 'tall', 'build': 'athletic', 'hair color': 'dark'}\n",
      "{'height': 'tall', 'build': 'athletic', 'hair color': 'dark'}\n",
      "{'height': 'short', 'build': 'stocky', 'hair color': 'grey'}\n"
     ]
    }
   ],
   "source": [
    "for extra in extras[0:3]:\n",
    "    if extra['height'] == 'tall':\n",
    "        extra['height'] = 'short'\n",
    "        extra['build'] = 'stocky'\n",
    "        extra['hair color'] = 'grey'\n",
    "for extra in extras[0:11]:\n",
    "    print(extra)"
   ]
  },
  {
   "cell_type": "code",
   "execution_count": 49,
   "metadata": {},
   "outputs": [
    {
     "name": "stdout",
     "output_type": "stream",
     "text": [
      "{'height': 'average', 'build': 'slight', 'hair color': 'bald'}\n",
      "{'height': 'average', 'build': 'slight', 'hair color': 'bald'}\n",
      "{'height': 'average', 'build': 'slight', 'hair color': 'bald'}\n",
      "{'height': 'tall', 'build': 'athletic', 'hair color': 'dark'}\n",
      "{'height': 'short', 'build': 'stocky', 'hair color': 'grey'}\n",
      "{'height': 'short', 'build': 'stocky', 'hair color': 'grey'}\n",
      "{'height': 'tall', 'build': 'athletic', 'hair color': 'dark'}\n",
      "{'height': 'tall', 'build': 'athletic', 'hair color': 'dark'}\n",
      "{'height': 'tall', 'build': 'athletic', 'hair color': 'dark'}\n",
      "{'height': 'short', 'build': 'stocky', 'hair color': 'grey'}\n"
     ]
    }
   ],
   "source": [
    "for extra in extras[0:3]:\n",
    "    if extra['height'] == 'tall':\n",
    "        extra['height'] = 'short'\n",
    "        extra['build'] = 'stocky'\n",
    "        extra['hair color'] = 'grey'\n",
    "    elif extra['height'] == 'short':\n",
    "        extra['height'] = 'average'\n",
    "        extra['build'] = 'slight'\n",
    "        extra['hair color'] = 'bald'\n",
    "for extra in extras[0:11]:\n",
    "    print(extra)\n"
   ]
  },
  {
   "cell_type": "code",
   "execution_count": null,
   "metadata": {},
   "outputs": [],
   "source": []
  }
 ],
 "metadata": {
  "kernelspec": {
   "display_name": "Python 3",
   "language": "python",
   "name": "python3"
  },
  "language_info": {
   "codemirror_mode": {
    "name": "ipython",
    "version": 3
   },
   "file_extension": ".py",
   "mimetype": "text/x-python",
   "name": "python",
   "nbconvert_exporter": "python",
   "pygments_lexer": "ipython3",
   "version": "3.6.5"
  }
 },
 "nbformat": 4,
 "nbformat_minor": 2
}
