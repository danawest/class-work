{
 "cells": [
  {
   "cell_type": "markdown",
   "metadata": {},
   "source": [
    "# Chapter 5\n",
    "This notebook will include my work on the Try it Yourself exercises for chapter 5."
   ]
  },
  {
   "cell_type": "markdown",
   "metadata": {},
   "source": [
    "### Exercise 5-1: Conditional Tests\n",
    "This is practice with true/false conditions. No difficulties."
   ]
  },
  {
   "cell_type": "code",
   "execution_count": 1,
   "metadata": {},
   "outputs": [
    {
     "name": "stdout",
     "output_type": "stream",
     "text": [
      "Is car == 'honda'? I predict True.\n",
      "True\n"
     ]
    }
   ],
   "source": [
    "car = 'honda'\n",
    "print(\"Is car == 'honda'? I predict True.\")\n",
    "print(car == 'honda')"
   ]
  },
  {
   "cell_type": "code",
   "execution_count": 2,
   "metadata": {},
   "outputs": [
    {
     "name": "stdout",
     "output_type": "stream",
     "text": [
      "Is car == 'chevy'? I predict False.\n",
      "False\n"
     ]
    }
   ],
   "source": [
    "print(\"Is car == 'chevy'? I predict False.\")\n",
    "print(car == 'chevy')"
   ]
  },
  {
   "cell_type": "code",
   "execution_count": 4,
   "metadata": {},
   "outputs": [
    {
     "name": "stdout",
     "output_type": "stream",
     "text": [
      "Is today == 'sunday'? I predict True.\n",
      "True\n",
      "\n",
      "Is today == 'monday'? I predict False.\n",
      "False\n"
     ]
    }
   ],
   "source": [
    "today = 'sunday'\n",
    "print(\"Is today == 'sunday'? I predict True.\")\n",
    "print(today == 'sunday')\n",
    "print(\"\\nIs today == 'monday'? I predict False.\")\n",
    "print(today == 'monday')"
   ]
  },
  {
   "cell_type": "code",
   "execution_count": 6,
   "metadata": {},
   "outputs": [
    {
     "name": "stdout",
     "output_type": "stream",
     "text": [
      "Is season == 'autumn'? I predict True.\n",
      "True\n",
      "\n",
      "Is season == 'summer'? I predict False.\n",
      "False\n"
     ]
    }
   ],
   "source": [
    "season = 'autumn'\n",
    "print(\"Is season == 'autumn'? I predict True.\")\n",
    "print(season == 'autumn')\n",
    "print(\"\\nIs season == 'summer'? I predict False.\")\n",
    "print(season == 'summer')"
   ]
  },
  {
   "cell_type": "code",
   "execution_count": 7,
   "metadata": {},
   "outputs": [
    {
     "name": "stdout",
     "output_type": "stream",
     "text": [
      "Is homework == 'boring'? I predict True.\n",
      "True\n",
      "\n",
      "Is homework == 'fun'? I predict False.\n",
      "False\n"
     ]
    }
   ],
   "source": [
    "homework = 'boring'\n",
    "print(\"Is homework == 'boring'? I predict True.\")\n",
    "print(homework == 'boring')\n",
    "print(\"\\nIs homework == 'fun'? I predict False.\")\n",
    "print(homework == 'fun')"
   ]
  },
  {
   "cell_type": "code",
   "execution_count": 8,
   "metadata": {},
   "outputs": [
    {
     "name": "stdout",
     "output_type": "stream",
     "text": [
      "Is name == 'Dana'? I predict True.\n",
      "True\n",
      "\n",
      "Is name =='dana'? I predict False.\n",
      "False\n"
     ]
    }
   ],
   "source": [
    "name = 'Dana'\n",
    "print(\"Is name == 'Dana'? I predict True.\")\n",
    "print(name == 'Dana')\n",
    "print(\"\\nIs name =='dana'? I predict False.\")\n",
    "print(name == 'dana')"
   ]
  },
  {
   "cell_type": "markdown",
   "metadata": {},
   "source": [
    "### Exercise 5-2: More Conditional Tests\n",
    "This exercise asks me to create additional tests for a variety of conditions, listed below. No difficulties.\n",
    "\n",
    "    * Tests for equality and inequality with strings\n",
    "    * Tests using the lower() function\n",
    "    * Numerical tests\n",
    "        * equality and inequality\n",
    "        * greater than and less than\n",
    "        * greater than or equal to\n",
    "        * less than or equal to\n",
    "    * Boolean keyword tests\n",
    "        * __and__ keyword\n",
    "        * __or__ keyword\n",
    "    * Test whether an item __is__ in a list\n",
    "    * Test whether an item __is not__ in a list"
   ]
  },
  {
   "cell_type": "code",
   "execution_count": 9,
   "metadata": {},
   "outputs": [
    {
     "data": {
      "text/plain": [
       "True"
      ]
     },
     "execution_count": 9,
     "metadata": {},
     "output_type": "execute_result"
    }
   ],
   "source": [
    "car = 'honda'\n",
    "car == 'honda'"
   ]
  },
  {
   "cell_type": "code",
   "execution_count": 10,
   "metadata": {},
   "outputs": [
    {
     "data": {
      "text/plain": [
       "False"
      ]
     },
     "execution_count": 10,
     "metadata": {},
     "output_type": "execute_result"
    }
   ],
   "source": [
    "car == 'chevy'"
   ]
  },
  {
   "cell_type": "code",
   "execution_count": 11,
   "metadata": {},
   "outputs": [
    {
     "data": {
      "text/plain": [
       "False"
      ]
     },
     "execution_count": 11,
     "metadata": {},
     "output_type": "execute_result"
    }
   ],
   "source": [
    "car = 'Honda'\n",
    "car == 'honda'"
   ]
  },
  {
   "cell_type": "code",
   "execution_count": 71,
   "metadata": {
    "scrolled": true
   },
   "outputs": [
    {
     "data": {
      "text/plain": [
       "True"
      ]
     },
     "execution_count": 71,
     "metadata": {},
     "output_type": "execute_result"
    }
   ],
   "source": [
    "car.lower() == 'honda'"
   ]
  },
  {
   "cell_type": "code",
   "execution_count": 16,
   "metadata": {},
   "outputs": [
    {
     "data": {
      "text/plain": [
       "True"
      ]
     },
     "execution_count": 16,
     "metadata": {},
     "output_type": "execute_result"
    }
   ],
   "source": [
    "age = 18\n",
    "age == 18"
   ]
  },
  {
   "cell_type": "code",
   "execution_count": 17,
   "metadata": {},
   "outputs": [
    {
     "data": {
      "text/plain": [
       "False"
      ]
     },
     "execution_count": 17,
     "metadata": {},
     "output_type": "execute_result"
    }
   ],
   "source": [
    "age = 18\n",
    "age == 16"
   ]
  },
  {
   "cell_type": "code",
   "execution_count": 18,
   "metadata": {},
   "outputs": [
    {
     "data": {
      "text/plain": [
       "False"
      ]
     },
     "execution_count": 18,
     "metadata": {},
     "output_type": "execute_result"
    }
   ],
   "source": [
    "age = 18\n",
    "age < 21\n",
    "age <= 21\n",
    "age > 21\n",
    "age >= 21\n"
   ]
  },
  {
   "cell_type": "code",
   "execution_count": 19,
   "metadata": {},
   "outputs": [
    {
     "data": {
      "text/plain": [
       "True"
      ]
     },
     "execution_count": 19,
     "metadata": {},
     "output_type": "execute_result"
    }
   ],
   "source": [
    "age = 18\n",
    "age < 21"
   ]
  },
  {
   "cell_type": "code",
   "execution_count": 20,
   "metadata": {},
   "outputs": [
    {
     "data": {
      "text/plain": [
       "True"
      ]
     },
     "execution_count": 20,
     "metadata": {},
     "output_type": "execute_result"
    }
   ],
   "source": [
    "age <= 21"
   ]
  },
  {
   "cell_type": "code",
   "execution_count": 21,
   "metadata": {},
   "outputs": [
    {
     "data": {
      "text/plain": [
       "False"
      ]
     },
     "execution_count": 21,
     "metadata": {},
     "output_type": "execute_result"
    }
   ],
   "source": [
    "age > 21"
   ]
  },
  {
   "cell_type": "code",
   "execution_count": 22,
   "metadata": {},
   "outputs": [
    {
     "data": {
      "text/plain": [
       "False"
      ]
     },
     "execution_count": 22,
     "metadata": {},
     "output_type": "execute_result"
    }
   ],
   "source": [
    "age >= 21"
   ]
  },
  {
   "cell_type": "code",
   "execution_count": 24,
   "metadata": {},
   "outputs": [
    {
     "data": {
      "text/plain": [
       "True"
      ]
     },
     "execution_count": 24,
     "metadata": {},
     "output_type": "execute_result"
    }
   ],
   "source": [
    "age_0 = 18\n",
    "age_1 = 22\n",
    "age_0 >= 18 and age_1 >= 18"
   ]
  },
  {
   "cell_type": "code",
   "execution_count": 25,
   "metadata": {},
   "outputs": [
    {
     "data": {
      "text/plain": [
       "False"
      ]
     },
     "execution_count": 25,
     "metadata": {},
     "output_type": "execute_result"
    }
   ],
   "source": [
    "age_0 >= 21 and age_1 >= 21"
   ]
  },
  {
   "cell_type": "code",
   "execution_count": 26,
   "metadata": {},
   "outputs": [
    {
     "data": {
      "text/plain": [
       "True"
      ]
     },
     "execution_count": 26,
     "metadata": {},
     "output_type": "execute_result"
    }
   ],
   "source": [
    "age_0 >= 21 or age_1 >= 21"
   ]
  },
  {
   "cell_type": "code",
   "execution_count": 27,
   "metadata": {},
   "outputs": [
    {
     "name": "stdout",
     "output_type": "stream",
     "text": [
      "Jake, you are late for class.\n"
     ]
    }
   ],
   "source": [
    "expelled_students = ['brian', 'greg', 'matt']\n",
    "student = 'jake'\n",
    "if student not in expelled_students:\n",
    "    print(student.title() + \", you are late for class.\")"
   ]
  },
  {
   "cell_type": "code",
   "execution_count": 28,
   "metadata": {},
   "outputs": [
    {
     "name": "stdout",
     "output_type": "stream",
     "text": [
      "Brian, you no longer attend school here.\n"
     ]
    }
   ],
   "source": [
    "student = 'brian'\n",
    "if student in expelled_students:\n",
    "    print(student.title() + \", you no longer attend school here.\")"
   ]
  },
  {
   "cell_type": "markdown",
   "metadata": {},
   "source": [
    "### Exercise 5-3 through 5-5: Alien Colors\n",
    "This exercise asks me to write a program to test the color of an alien shot down in a video game, and assign the player points based on the alien's color. \n",
    "    1. if (30-31)\n",
    "    2. if-else (32-33)\n",
    "    3. if-elif-else (39, 42-43)"
   ]
  },
  {
   "cell_type": "code",
   "execution_count": 30,
   "metadata": {
    "scrolled": true
   },
   "outputs": [
    {
     "name": "stdout",
     "output_type": "stream",
     "text": [
      "You earned 5 points!\n"
     ]
    }
   ],
   "source": [
    "alien_color = 'green'\n",
    "if alien_color == 'green':\n",
    "    print(\"You earned 5 points!\")"
   ]
  },
  {
   "cell_type": "code",
   "execution_count": 31,
   "metadata": {},
   "outputs": [],
   "source": [
    "alien_color = 'yellow'\n",
    "if alien_color == 'green':\n",
    "    print(\"You earned 5 points!\")"
   ]
  },
  {
   "cell_type": "code",
   "execution_count": 32,
   "metadata": {},
   "outputs": [
    {
     "name": "stdout",
     "output_type": "stream",
     "text": [
      "You earned 5 points!\n"
     ]
    }
   ],
   "source": [
    "alien_color = 'green'\n",
    "if alien_color == 'green':\n",
    "    print(\"You earned 5 points!\")\n",
    "else:\n",
    "    print(\"You earned 10 points!\")"
   ]
  },
  {
   "cell_type": "code",
   "execution_count": 33,
   "metadata": {},
   "outputs": [
    {
     "name": "stdout",
     "output_type": "stream",
     "text": [
      "You earned 10 points!\n"
     ]
    }
   ],
   "source": [
    "alien_color = 'purple'\n",
    "if alien_color == 'green':\n",
    "    print(\"You earned 5 points!\")\n",
    "else:\n",
    "    print(\"You earned 10 points!\")"
   ]
  },
  {
   "cell_type": "code",
   "execution_count": 39,
   "metadata": {},
   "outputs": [
    {
     "name": "stdout",
     "output_type": "stream",
     "text": [
      "You earned 5 points!\n"
     ]
    }
   ],
   "source": [
    "alien_color = 'green'\n",
    "if alien_color == 'green':\n",
    "    print(\"You earned 5 points!\")"
   ]
  },
  {
   "cell_type": "code",
   "execution_count": 42,
   "metadata": {},
   "outputs": [
    {
     "name": "stdout",
     "output_type": "stream",
     "text": [
      "You earned 10 points!\n"
     ]
    }
   ],
   "source": [
    "alien_color = 'yellow'\n",
    "if alien_color == 'green':\n",
    "    print(\"You earned 5 points!\")\n",
    "elif alien_color == 'yellow':\n",
    "    print(\"You earned 10 points!\")\n",
    "else:\n",
    "    print(\"You earned 15 points!\")"
   ]
  },
  {
   "cell_type": "code",
   "execution_count": 43,
   "metadata": {},
   "outputs": [
    {
     "name": "stdout",
     "output_type": "stream",
     "text": [
      "You earned 15 points!\n"
     ]
    }
   ],
   "source": [
    "alien_color = 'red'\n",
    "if alien_color == 'green':\n",
    "    print(\"You earned 5 points!\")\n",
    "elif alien_color == 'yellow':\n",
    "    print(\"You earned 10 points!\")\n",
    "else:\n",
    "    print(\"You earned 15 points!\")"
   ]
  },
  {
   "cell_type": "markdown",
   "metadata": {},
   "source": [
    "### Exercise 5-6: Stages of Life\n",
    "This exercise asks me to write an if-elif-else chain to determine a person's stage in life based on their age. No difficulties."
   ]
  },
  {
   "cell_type": "code",
   "execution_count": 50,
   "metadata": {},
   "outputs": [
    {
     "name": "stdout",
     "output_type": "stream",
     "text": [
      "You are an adult.\n"
     ]
    }
   ],
   "source": [
    "age = 36\n",
    "\n",
    "if age < 2:\n",
    "    print(\"You are a baby.\")\n",
    "elif age < 4:\n",
    "    print(\"You are a toddler.\")\n",
    "elif age < 13:\n",
    "    print(\"You are a kid.\")\n",
    "elif age < 20:\n",
    "    print(\"You are a teenager.\")\n",
    "elif age < 65:\n",
    "    print(\"You are an adult.\")\n",
    "else:\n",
    "    print(\"You are an elder.\")"
   ]
  },
  {
   "cell_type": "markdown",
   "metadata": {},
   "source": [
    "### Exercise 5-7: Favorite Fruit\n",
    "This exercise asks me to make a list of my favorite fruits, then create a program to check if fruits are or are not my favorites using if statements. No difficulties."
   ]
  },
  {
   "cell_type": "code",
   "execution_count": 51,
   "metadata": {},
   "outputs": [
    {
     "name": "stdout",
     "output_type": "stream",
     "text": [
      "One of your favorite fruits is grapefruit.\n",
      "One of your favorite fruits is pluot.\n",
      "One of your favorite fruits is raspberries.\n"
     ]
    }
   ],
   "source": [
    "favorite_fruits = ['grapefruit', 'pluot', 'raspberries']\n",
    "if 'grapefruit' in favorite_fruits:\n",
    "    print(\"One of your favorite fruits is \" + 'grapefruit.')\n",
    "if 'banana' in favorite_fruits:\n",
    "    print(\"One of your favorite fruits is \" + 'banana.')\n",
    "if 'pluot' in favorite_fruits:\n",
    "    print(\"One of your favorite fruits is \" + 'pluot.')\n",
    "if 'nectarine' in favorite_fruits:\n",
    "    print(\"One of your favorite fruits is \" + 'nectarine.')\n",
    "if 'raspberries' in favorite_fruits:\n",
    "    print(\"One of your favorite fruits is \" + 'raspberries.')"
   ]
  },
  {
   "cell_type": "markdown",
   "metadata": {},
   "source": [
    "### Exercise 5-8: Hello Admin\n",
    "This exercise asks me to loop through a list and print a greeting to users as they log in. At first when I ran this I received five \"Hello admin\" outputs. I then fixed it, though I can't remember how..."
   ]
  },
  {
   "cell_type": "code",
   "execution_count": 73,
   "metadata": {},
   "outputs": [
    {
     "name": "stdout",
     "output_type": "stream",
     "text": [
      "Hello Dana, thank you for logging in.\n",
      "Hello admin, would you like to see a status report?\n",
      "Hello Jake, thank you for logging in.\n",
      "Hello Susan, thank you for logging in.\n",
      "Hello Rich, thank you for logging in.\n"
     ]
    }
   ],
   "source": [
    "users = ['dana', 'admin', 'jake', 'susan', 'rich']\n",
    "for user in users:\n",
    "    if user == 'admin':\n",
    "        print(\"Hello \" + 'admin' + \", would you like to see a status report?\")\n",
    "    else:\n",
    "        print(\"Hello \" + user.title() + \", thank you for logging in.\")"
   ]
  },
  {
   "cell_type": "markdown",
   "metadata": {},
   "source": [
    "### Exercise 5-9: No Users\n",
    "This exercise is to practice using an if test to make sure a list isn't empty. No difficulties."
   ]
  },
  {
   "cell_type": "code",
   "execution_count": 55,
   "metadata": {},
   "outputs": [
    {
     "name": "stdout",
     "output_type": "stream",
     "text": [
      "We need to find some users!\n"
     ]
    }
   ],
   "source": [
    "users = []\n",
    "for user in users:\n",
    "    print(\"Hello \" + user.title() + \", thank you for logging in.\")\n",
    "else:\n",
    "    print(\"We need to find some users!\")"
   ]
  },
  {
   "cell_type": "markdown",
   "metadata": {},
   "source": [
    "### Exercise 5-10: Checking Usernames\n",
    "This exercise is for practicing using if statements to check the contents of multiple lists. No difficulties."
   ]
  },
  {
   "cell_type": "code",
   "execution_count": 1,
   "metadata": {},
   "outputs": [
    {
     "name": "stdout",
     "output_type": "stream",
     "text": [
      "Congratulations Sarah! Your selected username is available.\n",
      "I'm sorry Susan, you'll have to try a different username.\n",
      "Congratulations Sophie! Your selected username is available.\n",
      "Congratulations Owen! Your selected username is available.\n",
      "I'm sorry Lauren, you'll have to try a different username.\n"
     ]
    }
   ],
   "source": [
    "current_users = ['dana', 'jake', 'susan', 'rich', 'lauren']\n",
    "new_users = ['sarah', 'Susan', 'sophie', 'owen', 'LAUREN']\n",
    "\n",
    "for new_user in new_users:\n",
    "    if new_user.lower() in current_users:\n",
    "        print(\"I'm sorry \" + new_user.title() + \", you'll have to try a different username.\")\n",
    "    else:\n",
    "        print(\"Congratulations \" + new_user.title() + \"! Your selected username is available.\")\n"
   ]
  },
  {
   "cell_type": "markdown",
   "metadata": {},
   "source": [
    "### Exercise 5-11: Ordinal Numbers\n",
    "This exerise is for practicing assigning the correct ordinal ending to a series of numbers using an if-elif-else chain.\n",
    "Note: I ran into some trouble with a type error here. The first syntax I tried was print(\"number\" + \"st\"), so then my whole list was numberst, numbernd, etc. Then I remembered I should express the integers as a string."
   ]
  },
  {
   "cell_type": "code",
   "execution_count": 68,
   "metadata": {},
   "outputs": [
    {
     "name": "stdout",
     "output_type": "stream",
     "text": [
      "1st\n",
      "2nd\n",
      "3rd\n",
      "4th\n",
      "5th\n",
      "6th\n",
      "7th\n",
      "8th\n",
      "9th\n"
     ]
    }
   ],
   "source": [
    "numbers = [1, 2, 3, 4, 5, 6, 7, 8, 9]\n",
    "for number in numbers:\n",
    "    if number == 1:\n",
    "        print(str(number) + \"st\")\n",
    "    elif number == 2:\n",
    "        print(str(number) + \"nd\")\n",
    "    elif number == 3:\n",
    "        print(str(number) + \"rd\")\n",
    "    else:\n",
    "        print(str(number) + \"th\")"
   ]
  },
  {
   "cell_type": "markdown",
   "metadata": {},
   "source": [
    "### Exercise 5-12: Styling your if statements\n",
    "I went back through my prior exercises to make sure my spacing was appropriate per PEP 8 style guides."
   ]
  },
  {
   "cell_type": "markdown",
   "metadata": {},
   "source": [
    "### Exercise 5-13: Your ideas\n",
    "I don't know that I have as strong a grasp of programming concepts as the book hopes I will by this point. Certainly the book demonstrates some real-world applications of these tools, such as online menu management or website username creation. I could see using if statements for checking eligibility for student athletes based on GPA, or for determining whether a student may check out another library book, depending on how many she already has assigned to her account."
   ]
  },
  {
   "cell_type": "code",
   "execution_count": null,
   "metadata": {},
   "outputs": [],
   "source": []
  }
 ],
 "metadata": {
  "kernelspec": {
   "display_name": "Python 3",
   "language": "python",
   "name": "python3"
  },
  "language_info": {
   "codemirror_mode": {
    "name": "ipython",
    "version": 3
   },
   "file_extension": ".py",
   "mimetype": "text/x-python",
   "name": "python",
   "nbconvert_exporter": "python",
   "pygments_lexer": "ipython3",
   "version": "3.6.5"
  }
 },
 "nbformat": 4,
 "nbformat_minor": 2
}
