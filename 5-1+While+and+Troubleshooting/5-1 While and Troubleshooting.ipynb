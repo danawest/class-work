{
 "cells": [
  {
   "cell_type": "markdown",
   "metadata": {},
   "source": [
    "# Let's look a While and a bit of troubleshooting\n",
    "This is a simple example of a While loop that let's you enter numbers until you type done to finish.\n",
    "It then performs some basic calculations on the numbers."
   ]
  },
  {
   "cell_type": "markdown",
   "metadata": {},
   "source": [
    "## 1 First look"
   ]
  },
  {
   "cell_type": "code",
   "execution_count": 10,
   "metadata": {},
   "outputs": [
    {
     "name": "stdout",
     "output_type": "stream",
     "text": [
      "Enter a number of any size or 'done' when you are finished: 7\n",
      "Enter a number of any size or 'done' when you are finished: 9\n",
      "Enter a number of any size or 'done' when you are finished: done\n",
      "\n",
      "The sum is 16.0\n",
      "The number of values is 2\n",
      "The average is 8.0\n"
     ]
    }
   ],
   "source": [
    "prompt = \"Enter a number of any size or 'done' when you are finished: \"\n",
    "count = 0\n",
    "total = 0\n",
    "while True:\n",
    "    test = input(prompt)\n",
    "    if test == \"done\" : \n",
    "        break\n",
    "    try:\n",
    "        num = float(test)\n",
    "    except:\n",
    "        print(\"Invalid input. Please enter a number!\")\n",
    "        continue\n",
    "    count = count + 1\n",
    "    total = total + num\n",
    "print(\"\")\n",
    "print(\"The sum is\", total)\n",
    "print(\"The number of values is\", count)\n",
    "print(\"The average is\", total/count)"
   ]
  },
  {
   "cell_type": "markdown",
   "metadata": {},
   "source": [
    "Enter a series of numbers - any size, or quantity, positive or negative. For one value type the number as text (ten) or type your name to see the message. Type done when you are finished. It works nicely, but what else could go wrong?\n",
    "\n",
    "Try another series but finish with Done or DONE. How might we fix this?"
   ]
  },
  {
   "cell_type": "markdown",
   "metadata": {},
   "source": [
    "## 2 A simple solution"
   ]
  },
  {
   "cell_type": "markdown",
   "metadata": {},
   "source": [
    "How about using the .lower() method we saw earlier?"
   ]
  },
  {
   "cell_type": "code",
   "execution_count": 11,
   "metadata": {},
   "outputs": [
    {
     "name": "stdout",
     "output_type": "stream",
     "text": [
      "Enter a number of any size or 'done' when you are finished: 9\n",
      "Enter a number of any size or 'done' when you are finished: DONE\n",
      "\n",
      "The sum is 9.0\n",
      "The number of values is 1\n",
      "The average is 9.0\n"
     ]
    }
   ],
   "source": [
    "prompt = \"Enter a number of any size or 'done' when you are finished: \"\n",
    "count = 0\n",
    "total = 0\n",
    "while True:\n",
    "    test = input(prompt)\n",
    "    if test.lower() == \"done\" : \n",
    "        break\n",
    "    try:\n",
    "        num = float(test)\n",
    "    except:\n",
    "        print(\"Invalid input. Please enter a number!\")\n",
    "        continue\n",
    "    count = count + 1\n",
    "    total = total + num\n",
    "print(\"\")\n",
    "print(\"The sum is\", total)\n",
    "print(\"The number of values is\", count)\n",
    "print(\"The average is\", total/count)"
   ]
  },
  {
   "cell_type": "markdown",
   "metadata": {},
   "source": [
    "## 3 Another approach"
   ]
  },
  {
   "cell_type": "markdown",
   "metadata": {},
   "source": [
    "Another approach might use the in operator and a list of options. Try it out. "
   ]
  },
  {
   "cell_type": "code",
   "execution_count": 13,
   "metadata": {
    "scrolled": true
   },
   "outputs": [
    {
     "name": "stdout",
     "output_type": "stream",
     "text": [
      "Enter a number of any size or 'done' when you are finished: 15\n",
      "Enter a number of any size or 'done' when you are finished: -25\n",
      "Enter a number of any size or 'done' when you are finished: -9\n",
      "Enter a number of any size or 'done' when you are finished: done\n",
      "\n",
      "The sum is -19.0\n",
      "The number of values is 3\n",
      "The average is -6.333333333333333\n"
     ]
    }
   ],
   "source": [
    "prompt = \"Enter a number of any size or 'done' when you are finished: \"\n",
    "count = 0\n",
    "total = 0\n",
    "while True:\n",
    "    test = input(prompt)\n",
    "    if test in [\"done\", \"Done\", \"DONE\"] : \n",
    "        break\n",
    "    try:\n",
    "        num = float(test)\n",
    "    except:\n",
    "        print(\"Invalid input. Please enter a number!\")\n",
    "        continue\n",
    "    count = count + 1\n",
    "    total = total + num\n",
    "print(\"\")\n",
    "print(\"The sum is\", total)\n",
    "print(\"The number of values is\", count)\n",
    "print(\"The average is\", total/count)"
   ]
  },
  {
   "cell_type": "markdown",
   "metadata": {},
   "source": [
    "In addition to being more typing, it would miss mistakes like DOne.\n",
    "\n",
    "What else could possibly go wrong? Try another series but start with done. What happened? How could you prevent that from happening?"
   ]
  },
  {
   "cell_type": "markdown",
   "metadata": {},
   "source": [
    "Assignment: make a copy of ether of the above approaches and then:\n",
    "\n",
    "1. Solve the last problem.\n",
    "2. Change the code to also return the largest and smallest values entered. If you get stuck look at the first lecture.\n",
    "3. Optional: How would you change the code to list the numbers entered, one per line.\n",
    "\n",
    "Remember that there might be more than one approach that works."
   ]
  },
  {
   "cell_type": "code",
   "execution_count": 5,
   "metadata": {
    "scrolled": true
   },
   "outputs": [
    {
     "name": "stdout",
     "output_type": "stream",
     "text": [
      "Enter a number of any size or 'done' when you are finished: done\n",
      "\n",
      "The sum is 0\n",
      "The number of values is 0\n",
      "\n"
     ]
    }
   ],
   "source": [
    "prompt = \"Enter a number of any size or 'done' when you are finished: \"\n",
    "count = 0\n",
    "total = 0\n",
    "while True:\n",
    "    test = input(prompt)\n",
    "    if test == \"done\" : \n",
    "        break\n",
    "    try:\n",
    "        num = float(test)\n",
    "    except:\n",
    "        print(\"Invalid input. Please enter a number!\")\n",
    "        continue\n",
    "    count = count + 1\n",
    "    total = total + num\n",
    "print(\"\")\n",
    "print(\"The sum is\", total)\n",
    "print(\"The number of values is\", count)\n",
    "if count > 0:\n",
    "    print(\"The average is\", total/count)\n",
    "else:\n",
    "    print(\"\")"
   ]
  },
  {
   "cell_type": "code",
   "execution_count": 13,
   "metadata": {},
   "outputs": [
    {
     "name": "stdout",
     "output_type": "stream",
     "text": [
      "Enter a number of any size or 'done' when you are finished: 9\n",
      "Enter a number of any size or 'done' when you are finished: 18\n",
      "Enter a number of any size or 'done' when you are finished: 27\n",
      "Enter a number of any size or 'done' when you are finished: 3\n",
      "Enter a number of any size or 'done' when you are finished: done\n",
      "\n",
      "The smallest is 3.0\n",
      "The largest is 27.0\n",
      "The sum is 57.0\n",
      "The number of values is 4\n",
      "The average is 14.25\n"
     ]
    }
   ],
   "source": [
    "prompt = \"Enter a number of any size or 'done' when you are finished: \"\n",
    "count = 0\n",
    "total = 0\n",
    "largest = None\n",
    "smallest = None\n",
    "while True:\n",
    "    test = input(prompt)\n",
    "    if test.lower() == \"done\" : \n",
    "        break\n",
    "    try:\n",
    "        num = float(test)\n",
    "    except:\n",
    "        print(\"Invalid input. Please enter a number!\")\n",
    "        continue\n",
    "    count = count + 1\n",
    "    total = total + num\n",
    "    if smallest is None or num < smallest:\n",
    "        smallest = num\n",
    "    if largest is None or num > largest:\n",
    "        largest = num\n",
    "if count > 0:\n",
    "    print(\"\")\n",
    "    print(\"The smallest is\", smallest)\n",
    "    print(\"The largest is\", largest)\n",
    "    print(\"The sum is\", total)\n",
    "    print(\"The number of values is\", count)\n",
    "    print(\"The average is\", total/count)"
   ]
  },
  {
   "cell_type": "code",
   "execution_count": 19,
   "metadata": {},
   "outputs": [
    {
     "name": "stdout",
     "output_type": "stream",
     "text": [
      "Enter a number of any size or 'done' when you are finished: 9\n",
      "Enter a number of any size or 'done' when you are finished: 18\n",
      "Enter a number of any size or 'done' when you are finished: 27\n",
      "Enter a number of any size or 'done' when you are finished: 3\n",
      "Enter a number of any size or 'done' when you are finished: done\n",
      "9.0\n",
      "18.0\n",
      "27.0\n",
      "3.0\n"
     ]
    }
   ],
   "source": [
    "prompt = \"Enter a number of any size or 'done' when you are finished: \"\n",
    "count = 0\n",
    "total = 0\n",
    "nums = []\n",
    "while True:\n",
    "    test = input(prompt)\n",
    "    if test == \"done\" : \n",
    "        break\n",
    "    try:\n",
    "        num = float(test)\n",
    "    except:\n",
    "        print(\"Invalid input. Please enter a number!\")\n",
    "        continue\n",
    "    num = nums.append(num)\n",
    "for num in nums:\n",
    "    print(num)"
   ]
  },
  {
   "cell_type": "code",
   "execution_count": 21,
   "metadata": {},
   "outputs": [
    {
     "name": "stdout",
     "output_type": "stream",
     "text": [
      "\n",
      "Enter a score from 0-100: \n",
      "Enter 'quit' when you are finished.92\n",
      "\n",
      "Enter a score from 0-100: \n",
      "Enter 'quit' when you are finished.77\n",
      "\n",
      "Enter a score from 0-100: \n",
      "Enter 'quit' when you are finished.85\n",
      "\n",
      "Enter a score from 0-100: \n",
      "Enter 'quit' when you are finished.67\n",
      "\n",
      "Enter a score from 0-100: \n",
      "Enter 'quit' when you are finished.32\n",
      "\n",
      "Enter a score from 0-100: \n",
      "Enter 'quit' when you are finished.quit\n",
      "You earned 92.0 points, which is an A.\n",
      "You earned 77.0 points, which is a C.\n",
      "You earned 85.0 points, which is a B.\n",
      "You earned 67.0 points, which is a D.\n",
      "You earned 32.0 points, which is NC.\n"
     ]
    }
   ],
   "source": [
    "prompt = \"\\nEnter a score from 0-100: \"\n",
    "prompt += \"\\nEnter 'quit' when you are finished.\"\n",
    "grades = []\n",
    "while True:\n",
    "    test = input(prompt)\n",
    "    if test.lower() == \"quit\":\n",
    "        break\n",
    "    try:\n",
    "        grade = float(test)\n",
    "    except:\n",
    "        print(\"Invalid input. Please enter a number!\")\n",
    "        continue\n",
    "    grade = grades.append(grade)\n",
    "for grade in grades:\n",
    "    if grade >= 90:\n",
    "        print(\"You earned \" + str(grade) + \" points, which is an A.\")\n",
    "    elif grade >= 80:\n",
    "        print(\"You earned \" + str(grade) + \" points, which is a B.\")\n",
    "    elif grade >= 70:\n",
    "        print(\"You earned \" + str(grade) + \" points, which is a C.\")\n",
    "    elif grade >= 60:\n",
    "        print(\"You earned \" + str(grade) + \" points, which is a D.\")\n",
    "    else:\n",
    "        print(\"You earned \" + str(grade) + \" points, which is NC.\")"
   ]
  },
  {
   "cell_type": "code",
   "execution_count": null,
   "metadata": {},
   "outputs": [],
   "source": []
  }
 ],
 "metadata": {
  "kernelspec": {
   "display_name": "Python 3",
   "language": "python",
   "name": "python3"
  },
  "language_info": {
   "codemirror_mode": {
    "name": "ipython",
    "version": 3
   },
   "file_extension": ".py",
   "mimetype": "text/x-python",
   "name": "python",
   "nbconvert_exporter": "python",
   "pygments_lexer": "ipython3",
   "version": "3.6.5"
  }
 },
 "nbformat": 4,
 "nbformat_minor": 2
}
