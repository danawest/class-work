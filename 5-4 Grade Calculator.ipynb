{
 "cells": [
  {
   "cell_type": "code",
   "execution_count": null,
   "metadata": {},
   "outputs": [],
   "source": [
    "def score(points):\n",
    "    if points >= 90:\n",
    "        return\n",
    "    elif grade >= 80:\n",
    "        print(\"You earned \" + str(grade) + \" points, which is a B.\")\n",
    "    elif grade >= 70:\n",
    "        print(\"You earned \" + str(grade) + \" points, which is a C.\")\n",
    "    elif grade >= 60:\n",
    "        print(\"You earned \" + str(grade) + \" points, which is a D.\")\n",
    "    else:\n",
    "        print(\"You earned \" + str(grade) + \" points, which is NC.\")\n",
    "\n",
    "prompt = \"\\nEnter a score between 0-100: \"\n",
    "prompt += \"\\nEnter 'quit' when you are finished.\"\n",
    "grades = []\n",
    "while True:\n",
    "    test = input(prompt)\n",
    "    if test.lower() == 'quit':\n",
    "        break\n",
    "    try:\n",
    "        grade = float(test)\n",
    "    except:\n",
    "        print(\"Invalid input. Please enter a number!\")\n",
    "    grade = grades.append(grade)"
   ]
  }
 ],
 "metadata": {
  "kernelspec": {
   "display_name": "Python 3",
   "language": "python",
   "name": "python3"
  },
  "language_info": {
   "codemirror_mode": {
    "name": "ipython",
    "version": 3
   },
   "file_extension": ".py",
   "mimetype": "text/x-python",
   "name": "python",
   "nbconvert_exporter": "python",
   "pygments_lexer": "ipython3",
   "version": "3.6.5"
  }
 },
 "nbformat": 4,
 "nbformat_minor": 2
}
