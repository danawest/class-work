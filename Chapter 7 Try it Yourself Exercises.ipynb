{
 "cells": [
  {
   "cell_type": "markdown",
   "metadata": {},
   "source": [
    "# Chapter 7\n",
    "This notebook will include my work on the Try it Yourself exercises for chapter 7."
   ]
  },
  {
   "cell_type": "markdown",
   "metadata": {},
   "source": [
    "### Exercise 7-1: Rental Car\n",
    "This exercise practices asking a user for input."
   ]
  },
  {
   "cell_type": "code",
   "execution_count": 1,
   "metadata": {},
   "outputs": [
    {
     "name": "stdout",
     "output_type": "stream",
     "text": [
      "What kind of rental car would you like? Lamborghini\n",
      "Let me see if I can find you a Lamborghini.\n"
     ]
    }
   ],
   "source": [
    "prompt = \"What kind of rental car would you like? \"\n",
    "car = input(prompt)\n",
    "message = \"Let me see if I can find you a \" + car + \".\"\n",
    "print(message)"
   ]
  },
  {
   "cell_type": "markdown",
   "metadata": {},
   "source": [
    "### Exercise 7-2: Restaurant Seating\n",
    "More practice with user inputs, this time with if-else."
   ]
  },
  {
   "cell_type": "code",
   "execution_count": 3,
   "metadata": {},
   "outputs": [
    {
     "name": "stdout",
     "output_type": "stream",
     "text": [
      "How many people will be dining with you today? 4\n",
      "I can seat you right away.\n"
     ]
    }
   ],
   "source": [
    "party = input(\"How many people will be dining with you today? \")\n",
    "party = int(party)\n",
    "if party >= 8:\n",
    "    print(\"I'm sorry, you'll have to wait for a table.\")\n",
    "else:\n",
    "    print(\"I can seat you right away.\")"
   ]
  },
  {
   "cell_type": "markdown",
   "metadata": {},
   "source": [
    "### Exercise 7-3: Multiples of Ten\n",
    "This exercise practices using inputs, if-else conditional tests, and the modulo operator."
   ]
  },
  {
   "cell_type": "code",
   "execution_count": 5,
   "metadata": {},
   "outputs": [
    {
     "name": "stdout",
     "output_type": "stream",
     "text": [
      "Enter a number, and I'll tell you if it's a multiple of ten: 17\n",
      "\n",
      "The number 17 is not a multiple of ten.\n"
     ]
    }
   ],
   "source": [
    "number = input(\"Enter a number, and I'll tell you if it's a multiple of ten: \")\n",
    "number = int(number)\n",
    "if number % 10 == 0:\n",
    "    print(\"\\nThe number \" + str(number) + \" is a multiple of ten.\")\n",
    "else:\n",
    "    print(\"\\nThe number \" + str(number) + \" is not a multiple of ten.\")"
   ]
  },
  {
   "cell_type": "markdown",
   "metadata": {},
   "source": [
    "### Exercise 7-4: Pizza Toppings\n",
    "This exercise practices combining a _while_ loop with user inputs."
   ]
  },
  {
   "cell_type": "code",
   "execution_count": 3,
   "metadata": {},
   "outputs": [
    {
     "name": "stdout",
     "output_type": "stream",
     "text": [
      "\n",
      "Select a topping for your pizza: Enter 'Quit' to finish adding toppings.pepperoni\n",
      "I'll add pepperoni to your pizza!\n",
      "\n",
      "Select a topping for your pizza: Enter 'Quit' to finish adding toppings.mushrooms\n",
      "I'll add mushrooms to your pizza!\n",
      "\n",
      "Select a topping for your pizza: Enter 'Quit' to finish adding toppings.olives\n",
      "I'll add olives to your pizza!\n",
      "\n",
      "Select a topping for your pizza: Enter 'Quit' to finish adding toppings.quit\n"
     ]
    }
   ],
   "source": [
    "prompt = \"\\nSelect a topping for your pizza: \"\n",
    "prompt += \"Enter 'Quit' to finish adding toppings.\"\n",
    "\n",
    "while True:\n",
    "    topping = input(prompt)\n",
    "    if topping != 'quit':\n",
    "        print(\"I'll add \" + topping + \" to your pizza!\")\n",
    "    else:\n",
    "        break"
   ]
  },
  {
   "cell_type": "markdown",
   "metadata": {},
   "source": [
    "### Exercise 7-5: Movie Tickets\n",
    "This exercise practices using a _while_ loop for an if-elif-else test on user inputs. \n",
    "\n",
    "This is the first time I've ever had to look up the solution to an exercise in the book. I was really having the trouble with the syntax of the _while_ loop. Originally I tried defining _age_ before beginning the _while_ loop. One thing I wonder is whether there is a simpler way to print the ticket prices. It seems like you could just write one print statement as print(\"Your ticket price is $\" + str(price) + \".\"), but I don't know where to place a single print statement in a while loop."
   ]
  },
  {
   "cell_type": "code",
   "execution_count": 1,
   "metadata": {},
   "outputs": [
    {
     "name": "stdout",
     "output_type": "stream",
     "text": [
      "Please enter your age: \n",
      "Enter 'quit' when you are finished.12\n",
      "Your ticket is $10.\n",
      "Please enter your age: \n",
      "Enter 'quit' when you are finished.16\n",
      "Your ticket is $15.\n",
      "Please enter your age: \n",
      "Enter 'quit' when you are finished.1\n",
      "Your ticket is free.\n",
      "Please enter your age: \n",
      "Enter 'quit' when you are finished.quit\n"
     ]
    }
   ],
   "source": [
    "prompt = \"Please enter your age: \"\n",
    "prompt += \"\\nEnter 'quit' when you are finished.\"\n",
    "\n",
    "while True:\n",
    "    age = input(prompt)\n",
    "    if age == 'quit':\n",
    "        break\n",
    "    age = int(age)\n",
    "    \n",
    "    if age < 3:\n",
    "        print(\"Your ticket is free.\")\n",
    "    elif age < 13:\n",
    "        print(\"Your ticket is $10.\")\n",
    "    else:\n",
    "        print(\"Your ticket is $15.\")"
   ]
  },
  {
   "cell_type": "markdown",
   "metadata": {},
   "source": [
    "### Exercise 7-6: Three Exits\n",
    "This exercise is for practicing with various ways to exit a _while_ loop. The first method is the same as in Exercise 7-4, which uses a _break_ statement to exit the loop. The second method uses an _active_ variable. Both of these are using conditional tests, but the third method below puts the exit to the _while_ loop in the conditional test. I'm not sure that it really counts as an exit, though, since it just restarts the loop and reprompts the user for their pizza topping."
   ]
  },
  {
   "cell_type": "code",
   "execution_count": 6,
   "metadata": {},
   "outputs": [
    {
     "name": "stdout",
     "output_type": "stream",
     "text": [
      "\n",
      "Select a topping for your pizza: Enter 'Quit' to finish adding toppings.pepperoni\n",
      "I'll add pepperoni to your pizza!\n",
      "\n",
      "Select a topping for your pizza: Enter 'Quit' to finish adding toppings.olives\n",
      "I'll add olives to your pizza!\n",
      "\n",
      "Select a topping for your pizza: Enter 'Quit' to finish adding toppings.mushrooms\n",
      "I'll add mushrooms to your pizza!\n",
      "\n",
      "Select a topping for your pizza: Enter 'Quit' to finish adding toppings.quit\n"
     ]
    }
   ],
   "source": [
    "prompt = \"\\nSelect a topping for your pizza: \"\n",
    "prompt += \"Enter 'Quit' to finish adding toppings.\"\n",
    "\n",
    "while True:\n",
    "    topping = input(prompt)\n",
    "    if topping != 'quit':\n",
    "        print(\"I'll add \" + topping + \" to your pizza!\")\n",
    "    else:\n",
    "        break"
   ]
  },
  {
   "cell_type": "code",
   "execution_count": 5,
   "metadata": {},
   "outputs": [
    {
     "name": "stdout",
     "output_type": "stream",
     "text": [
      "\n",
      "Select a topping for your pizza: Enter 'Quit' to finish adding toppings.pepperoni\n",
      "I'll add pepperoni to your pizza!\n",
      "\n",
      "Select a topping for your pizza: Enter 'Quit' to finish adding toppings.quit\n"
     ]
    }
   ],
   "source": [
    "prompt = \"\\nSelect a topping for your pizza: \"\n",
    "prompt += \"Enter 'Quit' to finish adding toppings.\"\n",
    "\n",
    "active = True\n",
    "while active:\n",
    "    topping = input(prompt)\n",
    "    if topping == 'quit':\n",
    "        active = False\n",
    "    else:\n",
    "        print(\"I'll add \" + topping + \" to your pizza!\")"
   ]
  },
  {
   "cell_type": "code",
   "execution_count": null,
   "metadata": {},
   "outputs": [
    {
     "name": "stdout",
     "output_type": "stream",
     "text": [
      "\n",
      "Select a topping for your pizza: Enter 'Quit' to finish adding toppings.pepperoni\n",
      "I'll add pepperoni to your pizza!\n",
      "\n",
      "Select a topping for your pizza: Enter 'Quit' to finish adding toppings.quit\n",
      "I'll add quit to your pizza!\n"
     ]
    }
   ],
   "source": [
    "prompt = \"\\nSelect a topping for your pizza: \"\n",
    "prompt += \"Enter 'Quit' to finish adding toppings.\"\n",
    "\n",
    "topping = \"\"\n",
    "while topping != 'quit':\n",
    "    print(\"I'll add \" + input(prompt) + \" to your pizza!\")\n",
    "    if topping == 'quit':\n",
    "        print(topping)"
   ]
  },
  {
   "cell_type": "markdown",
   "metadata": {},
   "source": [
    "### Exercise 7-7: Infinity\n",
    "This exercise is for practice with writing an infinite loop. I opted not to run it because I would have had to shut down the entire notebook."
   ]
  },
  {
   "cell_type": "code",
   "execution_count": null,
   "metadata": {},
   "outputs": [],
   "source": [
    "x = 1\n",
    "while x <= 5:\n",
    "    print(x)\n",
    "    "
   ]
  },
  {
   "cell_type": "markdown",
   "metadata": {},
   "source": [
    "### Exercise 7-8: Deli\n",
    "This exercise is for practice with using _while_ loops on lists."
   ]
  },
  {
   "cell_type": "code",
   "execution_count": 2,
   "metadata": {},
   "outputs": [
    {
     "name": "stdout",
     "output_type": "stream",
     "text": [
      "I made your roast beef sandwich.\n",
      "I made your ham sandwich.\n",
      "I made your pastrami sandwich.\n",
      "I made your turkey sandwich.\n",
      "I made your tuna sandwich.\n",
      "\n",
      "The following sandwiches have been made:\n",
      "Roast Beef\n",
      "Ham\n",
      "Pastrami\n",
      "Turkey\n",
      "Tuna\n"
     ]
    }
   ],
   "source": [
    "sandwich_orders = ['tuna', 'turkey', 'pastrami', 'ham', 'roast beef']\n",
    "finished_sandwiches = []\n",
    "\n",
    "while sandwich_orders:\n",
    "    sandwich = sandwich_orders.pop()\n",
    "    print(\"I made your \" + sandwich + \" sandwich.\")\n",
    "    finished_sandwiches.append(sandwich)\n",
    "\n",
    "print(\"\\nThe following sandwiches have been made:\")\n",
    "for sandwich in finished_sandwiches:\n",
    "    print(sandwich.title())"
   ]
  },
  {
   "cell_type": "markdown",
   "metadata": {},
   "source": [
    "### Exercise 7-9: No Pastrami\n",
    "This exercise is for practicing removing an item from a list using a _while_ loop."
   ]
  },
  {
   "cell_type": "code",
   "execution_count": 6,
   "metadata": {},
   "outputs": [
    {
     "name": "stdout",
     "output_type": "stream",
     "text": [
      "I'm sorry, we're all out of Pastrami.\n",
      "\n",
      "I made your Roast Beef sandwich.\n",
      "\n",
      "I made your Ham sandwich.\n",
      "\n",
      "I made your Turkey sandwich.\n",
      "\n",
      "I made your Tuna sandwich.\n",
      "\n",
      "The following sandwiches have been made:\n",
      "Roast Beef\n",
      "Ham\n",
      "Turkey\n",
      "Tuna\n"
     ]
    }
   ],
   "source": [
    "sandwich_orders = ['pastrami', 'tuna', 'turkey', 'pastrami', 'ham', 'roast beef', 'pastrami']\n",
    "finished_sandwiches = []\n",
    "\n",
    "print(\"I'm sorry, we're all out of Pastrami.\")\n",
    "\n",
    "while 'pastrami' in sandwich_orders:\n",
    "    sandwich_orders.remove('pastrami')\n",
    "\n",
    "while sandwich_orders:\n",
    "    sandwich = sandwich_orders.pop()\n",
    "    print(\"\\nI made your \" + sandwich.title() + \" sandwich.\")\n",
    "    finished_sandwiches.append(sandwich)\n",
    "\n",
    "print(\"\\nThe following sandwiches have been made:\")\n",
    "for sandwich in finished_sandwiches:\n",
    "    print(sandwich.title())"
   ]
  },
  {
   "cell_type": "markdown",
   "metadata": {},
   "source": [
    "### Exercise 7-10: Dream Vacation\n",
    "This exercise practices polling users using a _while_ loop to add user responses to a dictionary and then print the responses to the poll."
   ]
  },
  {
   "cell_type": "code",
   "execution_count": 8,
   "metadata": {},
   "outputs": [
    {
     "name": "stdout",
     "output_type": "stream",
     "text": [
      "\n",
      "What is your name? Dana\n",
      "What is your dream vacation? Hawaii\n",
      "Would you like to respond to the poll again? (yes/no) yes\n",
      "\n",
      "What is your name? Jake\n",
      "What is your dream vacation? Italy\n",
      "Would you like to respond to the poll again? (yes/no) yes\n",
      "\n",
      "What is your name? Sarah\n",
      "What is your dream vacation? Mount Everest\n",
      "Would you like to respond to the poll again? (yes/no) no\n",
      "\n",
      "--- Poll Results ---\n",
      "Dana would like to travel to Hawaii.\n",
      "Jake would like to travel to Italy.\n",
      "Sarah would like to travel to Mount Everest.\n"
     ]
    }
   ],
   "source": [
    "responses = {}\n",
    "\n",
    "polling_active = True\n",
    "while polling_active:\n",
    "    name = input(\"\\nWhat is your name? \")\n",
    "    response = input(\"What is your dream vacation? \")\n",
    "    \n",
    "    responses[name] = response\n",
    "    \n",
    "    repeat = input(\"Would you like to respond to the poll again? (yes/no) \")\n",
    "    if repeat == 'no':\n",
    "        polling_active = False\n",
    "\n",
    "print(\"\\n--- Poll Results ---\")\n",
    "for name, response in responses.items():\n",
    "    print(name + \" would like to travel to \" + response.title() + \".\")"
   ]
  },
  {
   "cell_type": "code",
   "execution_count": null,
   "metadata": {},
   "outputs": [],
   "source": []
  }
 ],
 "metadata": {
  "kernelspec": {
   "display_name": "Python 3",
   "language": "python",
   "name": "python3"
  },
  "language_info": {
   "codemirror_mode": {
    "name": "ipython",
    "version": 3
   },
   "file_extension": ".py",
   "mimetype": "text/x-python",
   "name": "python",
   "nbconvert_exporter": "python",
   "pygments_lexer": "ipython3",
   "version": "3.6.5"
  }
 },
 "nbformat": 4,
 "nbformat_minor": 2
}
